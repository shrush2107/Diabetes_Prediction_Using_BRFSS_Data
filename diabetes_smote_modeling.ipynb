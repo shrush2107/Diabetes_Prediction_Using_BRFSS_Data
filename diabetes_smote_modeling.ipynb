{
 "cells": [
  {
   "cell_type": "markdown",
   "id": "69b26c23",
   "metadata": {},
   "source": [
    "# Predicting Diabetes Using BRFSS Data"
   ]
  },
  {
   "cell_type": "code",
   "execution_count": 1,
   "id": "aec6b702",
   "metadata": {},
   "outputs": [],
   "source": [
    "import numpy as np\n",
    "import pandas as pd\n",
    "import seaborn as sns\n",
    "import matplotlib.pyplot as plt\n",
    "import plotly.express as px\n",
    "from sklearn.model_selection import train_test_split\n",
    "from sklearn.model_selection import cross_val_score\n",
    "from sklearn.model_selection import GridSearchCV\n",
    "from sklearn.pipeline import Pipeline, make_pipeline\n",
    "from sklearn.preprocessing import StandardScaler, MinMaxScaler\n",
    "from sklearn.naive_bayes import GaussianNB, MultinomialNB\n",
    "from sklearn.linear_model import LogisticRegression\n",
    "from sklearn.svm import SVC\n",
    "from sklearn.ensemble import RandomForestClassifier\n",
    "from sklearn.tree import DecisionTreeClassifier\n",
    "import xgboost as xgb\n",
    "from sklearn.metrics import accuracy_score, f1_score, recall_score, roc_auc_score, precision_score\n",
    "from sklearn.metrics import confusion_matrix, classification_report\n",
    "from sklearn.metrics import ConfusionMatrixDisplay\n",
    "from imblearn.over_sampling import SMOTE\n",
    "from collections import Counter\n",
    "from sklearn.metrics import make_scorer"
   ]
  },
  {
   "cell_type": "code",
   "execution_count": 2,
   "id": "21bd4ff0",
   "metadata": {},
   "outputs": [],
   "source": [
    "import warnings\n",
    "warnings.filterwarnings(\"ignore\")"
   ]
  },
  {
   "cell_type": "code",
   "execution_count": 3,
   "id": "d62d01ef",
   "metadata": {},
   "outputs": [],
   "source": [
    "df = pd.read_csv('Diabetes_2022.csv')"
   ]
  },
  {
   "cell_type": "code",
   "execution_count": 4,
   "id": "139e1273",
   "metadata": {},
   "outputs": [],
   "source": [
    "y = df.Diabetes_01\n",
    "X = df.drop(['Diabetes_01'], axis=1)"
   ]
  },
  {
   "cell_type": "code",
   "execution_count": 5,
   "id": "9a337c2d",
   "metadata": {},
   "outputs": [],
   "source": [
    "X_train, X_test, y_train, y_test = train_test_split(X, y, test_size = 0.2, random_state = 42)"
   ]
  },
  {
   "cell_type": "code",
   "execution_count": 6,
   "id": "975224c7",
   "metadata": {},
   "outputs": [
    {
     "name": "stdout",
     "output_type": "stream",
     "text": [
      "X_train: (228311, 24) X_test: (57078, 24)\n",
      "y_train: (228311,) y_test: (57078,)\n"
     ]
    }
   ],
   "source": [
    "print('X_train:', X_train.shape, 'X_test:', X_test.shape)\n",
    "print('y_train:', y_train.shape, 'y_test:', y_test.shape)"
   ]
  },
  {
   "cell_type": "markdown",
   "id": "1e008f93",
   "metadata": {},
   "source": [
    "### SMOTE"
   ]
  },
  {
   "cell_type": "code",
   "execution_count": 7,
   "id": "326f102b",
   "metadata": {},
   "outputs": [
    {
     "name": "stdout",
     "output_type": "stream",
     "text": [
      "Original dataset shape Counter({0: 192370, 1: 35941})\n",
      "Resampled dataset shape Counter({0: 192370, 1: 192370})\n"
     ]
    }
   ],
   "source": [
    "smote = SMOTE(random_state=2)\n",
    "X_smote_sampled, y_smote_sampled = smote.fit_resample(X_train, y_train)\n",
    "\n",
    "print('Original dataset shape {}'.format(Counter(y_train)))\n",
    "print('Resampled dataset shape {}'.format(Counter(y_smote_sampled)))\n"
   ]
  },
  {
   "cell_type": "markdown",
   "id": "f2295dc6",
   "metadata": {},
   "source": [
    "## Modeling"
   ]
  },
  {
   "cell_type": "code",
   "execution_count": 8,
   "id": "ff7ecbf0",
   "metadata": {},
   "outputs": [],
   "source": [
    "def optimize_model(model, param_grid, primary_metric=\"recall\", cv=5, X_train = X_train, y_train = y_train):\n",
    "    scoring = {\n",
    "        'accuracy': make_scorer(accuracy_score),\n",
    "        'recall': make_scorer(recall_score)\n",
    "    }\n",
    "    optimizer = GridSearchCV(estimator=model, \n",
    "                             param_grid=param_grid, \n",
    "                             scoring=scoring, \n",
    "                             refit=primary_metric, \n",
    "                             cv=cv, \n",
    "                             n_jobs=-1, \n",
    "                             verbose=True)\n",
    "    \n",
    "    optimizer.fit(X_train, y_train)\n",
    "    print('Best parameters found:')\n",
    "    print(optimizer.best_params_)\n",
    "    print(f'\\nBest {primary_metric} score: %0.6f' % (optimizer.best_score_))\n",
    "\n",
    "    if primary_metric == 'recall':\n",
    "        print(f\"Corresponding accuracy: {optimizer.cv_results_['mean_test_accuracy'][optimizer.best_index_]:0.6f}\")\n",
    "    else:\n",
    "        print(f\"Corresponding recall: {optimizer.cv_results_['mean_test_recall'][optimizer.best_index_]:0.6f}\")\n",
    "    \n",
    "    return optimizer.best_estimator_"
   ]
  },
  {
   "cell_type": "code",
   "execution_count": 9,
   "id": "254ed4c0",
   "metadata": {},
   "outputs": [],
   "source": [
    "def evaluate_model(model, X_test = X_test, y_test = y_test):\n",
    "    y_pred = model.predict(X_test)\n",
    "    print('\\nClassification report: ')\n",
    "    print(classification_report(y_test, y_pred))"
   ]
  },
  {
   "cell_type": "markdown",
   "id": "4598ada3",
   "metadata": {},
   "source": [
    "### Logistic Regression"
   ]
  },
  {
   "cell_type": "code",
   "execution_count": 10,
   "id": "61832a6d",
   "metadata": {},
   "outputs": [
    {
     "name": "stdout",
     "output_type": "stream",
     "text": [
      "Best score: 0.702617\n",
      "\n",
      "Classification report: \n",
      "              precision    recall  f1-score   support\n",
      "\n",
      "           0       0.92      0.71      0.80     48132\n",
      "           1       0.30      0.66      0.41      8946\n",
      "\n",
      "    accuracy                           0.70     57078\n",
      "   macro avg       0.61      0.69      0.61     57078\n",
      "weighted avg       0.82      0.70      0.74     57078\n",
      "\n"
     ]
    }
   ],
   "source": [
    "lr_baseline = LogisticRegression(random_state = 0)\n",
    "lr_baseline.fit(X_smote_sampled, y_smote_sampled)\n",
    "print('Best score:', np.round(accuracy_score(y_test, lr_baseline.predict(X_test)), 6))\n",
    "evaluate_model(lr_baseline)"
   ]
  },
  {
   "cell_type": "code",
   "execution_count": 11,
   "id": "5367f9a3",
   "metadata": {},
   "outputs": [
    {
     "name": "stdout",
     "output_type": "stream",
     "text": [
      "Best Parameters: {'C': 10, 'max_iter': 100, 'penalty': 'l2', 'solver': 'lbfgs'}\n",
      "Best Recall Score (used for refit): 0.7262307012527941\n",
      "Best Accuracy Score: 0.717993969953735\n"
     ]
    }
   ],
   "source": [
    "param_grid = {\n",
    "    'penalty': ['l1', 'l2', 'elasticnet'],\n",
    "    'C': [0.001, 0.01, 0.1, 1, 10,100],\n",
    "    'solver': ['lbfgs', 'saga'],\n",
    "    'max_iter': [100, 200]\n",
    "}\n",
    "scoring = {\n",
    "    'accuracy': make_scorer(accuracy_score),\n",
    "    'recall': make_scorer(recall_score)\n",
    "}\n",
    "grid_search = GridSearchCV(estimator=lr_baseline, param_grid=param_grid, scoring=scoring, refit='recall', cv=5)\n",
    "grid_search.fit(X_smote_sampled, y_smote_sampled)\n",
    "best_model = grid_search.best_estimator_\n",
    "best_params = grid_search.best_params_\n",
    "print(\"Best Parameters:\", best_params)\n",
    "best_recall_score = grid_search.best_score_\n",
    "print(\"Best Recall Score (used for refit):\", best_recall_score)\n",
    "best_index = grid_search.best_index_  \n",
    "best_accuracy_score = grid_search.cv_results_['mean_test_accuracy'][best_index]\n",
    "print(\"Best Accuracy Score:\", best_accuracy_score)"
   ]
  },
  {
   "cell_type": "code",
   "execution_count": 12,
   "id": "8ed2fb26",
   "metadata": {},
   "outputs": [],
   "source": [
    "lr_model = grid_search.best_estimator_ "
   ]
  },
  {
   "cell_type": "code",
   "execution_count": 13,
   "id": "77b34ae6",
   "metadata": {},
   "outputs": [
    {
     "data": {
      "text/plain": [
       "<Figure size 200x100 with 0 Axes>"
      ]
     },
     "metadata": {},
     "output_type": "display_data"
    },
    {
     "data": {
      "image/png": "[encoded data removed]",
      "text/plain": [
       "<Figure size 640x480 with 2 Axes>"
      ]
     },
     "metadata": {},
     "output_type": "display_data"
    }
   ],
   "source": [
    "y_pred = lr_model.predict(X_test)\n",
    "cm = confusion_matrix(y_test, y_pred)\n",
    "plt.figure(figsize=(2, 1))\n",
    "disp = ConfusionMatrixDisplay(confusion_matrix=cm)\n",
    "disp.plot(cmap=plt.cm.Reds)\n",
    "plt.show()\n"
   ]
  },
  {
   "cell_type": "markdown",
   "id": "9fc82ae0",
   "metadata": {},
   "source": [
    "### Decision Tree Classifier"
   ]
  },
  {
   "cell_type": "code",
   "execution_count": 14,
   "id": "2ec97330",
   "metadata": {},
   "outputs": [],
   "source": [
    "tree_model = Pipeline([(\"scaler\", StandardScaler()), (\"model\", DecisionTreeClassifier())])\n",
    "\n",
    "tree_param_grid = {'model__criterion': ['gini', 'entropy'],\n",
    "                   'model__max_depth': [2, 5, 10, 20, 30],\n",
    "                   'model__min_samples_leaf': [5, 10, 20, 30]}"
   ]
  },
  {
   "cell_type": "code",
   "execution_count": 15,
   "id": "c2d60a44",
   "metadata": {},
   "outputs": [
    {
     "name": "stdout",
     "output_type": "stream",
     "text": [
      "Best score: 0.710869\n",
      "\n",
      "Classification report: \n",
      "              precision    recall  f1-score   support\n",
      "\n",
      "           0       0.88      0.76      0.82     48132\n",
      "           1       0.25      0.44      0.32      8946\n",
      "\n",
      "    accuracy                           0.71     57078\n",
      "   macro avg       0.57      0.60      0.57     57078\n",
      "weighted avg       0.78      0.71      0.74     57078\n",
      "\n"
     ]
    }
   ],
   "source": [
    "tree_baseline = DecisionTreeClassifier(random_state = 0)\n",
    "tree_baseline.fit(X_smote_sampled, y_smote_sampled)\n",
    "print('Best score:', np.round(accuracy_score(y_test, tree_baseline.predict(X_test)), 6))\n",
    "evaluate_model(tree_baseline)"
   ]
  },
  {
   "cell_type": "code",
   "execution_count": 16,
   "id": "0d21eddc",
   "metadata": {},
   "outputs": [
    {
     "name": "stdout",
     "output_type": "stream",
     "text": [
      "Fitting 5 folds for each of 40 candidates, totalling 200 fits\n",
      "Best parameters found:\n",
      "{'model__criterion': 'entropy', 'model__max_depth': 30, 'model__min_samples_leaf': 5}\n",
      "\n",
      "Best recall score: 0.256949\n",
      "Corresponding accuracy: 0.815453\n",
      "\n",
      "Classification report: \n",
      "              precision    recall  f1-score   support\n",
      "\n",
      "           0       0.87      0.92      0.89     48132\n",
      "           1       0.38      0.26      0.31      8946\n",
      "\n",
      "    accuracy                           0.82     57078\n",
      "   macro avg       0.62      0.59      0.60     57078\n",
      "weighted avg       0.79      0.82      0.80     57078\n",
      "\n"
     ]
    }
   ],
   "source": [
    "tree_model = optimize_model(tree_model, tree_param_grid)\n",
    "evaluate_model(tree_model)"
   ]
  },
  {
   "cell_type": "code",
   "execution_count": 21,
   "id": "0b1b336e",
   "metadata": {},
   "outputs": [
    {
     "name": "stdout",
     "output_type": "stream",
     "text": [
      "Fitting 5 folds for each of 25 candidates, totalling 125 fits\n",
      "Best parameters found:\n",
      "{'model__max_depth': 124}\n",
      "\n",
      "Best recall score: 0.281489\n",
      "Corresponding accuracy: 0.803457\n",
      "\n",
      "Classification report: \n",
      "              precision    recall  f1-score   support\n",
      "\n",
      "           0       0.87      0.90      0.89     48132\n",
      "           1       0.35      0.28      0.31      8946\n",
      "\n",
      "    accuracy                           0.81     57078\n",
      "   macro avg       0.61      0.59      0.60     57078\n",
      "weighted avg       0.79      0.81      0.80     57078\n",
      "\n"
     ]
    }
   ],
   "source": [
    "tree_model = Pipeline([(\"scaler\", StandardScaler()), (\"model\", DecisionTreeClassifier(criterion = 'entropy', min_samples_leaf=3))])\n",
    "tree_param_grid = {'model__max_depth': np.arange(100,125,1)}\n",
    "tree_model = optimize_model(tree_model, tree_param_grid)\n",
    "evaluate_model(tree_model)"
   ]
  },
  {
   "cell_type": "code",
   "execution_count": 22,
   "id": "e5a177db",
   "metadata": {},
   "outputs": [
    {
     "data": {
      "text/plain": [
       "<Figure size 200x100 with 0 Axes>"
      ]
     },
     "metadata": {},
     "output_type": "display_data"
    },
    {
     "data": {
      "image/png": "[encoded data removed]",
      "text/plain": [
       "<Figure size 640x480 with 2 Axes>"
      ]
     },
     "metadata": {},
     "output_type": "display_data"
    }
   ],
   "source": [
    "y_pred = tree_model.predict(X_test)\n",
    "cm = confusion_matrix(y_test, y_pred)\n",
    "plt.figure(figsize=(2, 1))\n",
    "disp = ConfusionMatrixDisplay(confusion_matrix=cm)\n",
    "disp.plot(cmap=plt.cm.Reds)\n",
    "plt.show()"
   ]
  },
  {
   "cell_type": "markdown",
   "id": "64ffb0ff",
   "metadata": {},
   "source": [
    "### XGBoost Classifier"
   ]
  },
  {
   "cell_type": "code",
   "execution_count": 23,
   "id": "60e028f2",
   "metadata": {},
   "outputs": [
    {
     "name": "stdout",
     "output_type": "stream",
     "text": [
      "Best score: 0.706489\n",
      "\n",
      "Classification report: \n",
      "              precision    recall  f1-score   support\n",
      "\n",
      "           0       0.92      0.72      0.80     48132\n",
      "           1       0.30      0.65      0.41      8946\n",
      "\n",
      "    accuracy                           0.71     57078\n",
      "   macro avg       0.61      0.68      0.61     57078\n",
      "weighted avg       0.82      0.71      0.74     57078\n",
      "\n"
     ]
    }
   ],
   "source": [
    "xgb_classifier = xgb.XGBClassifier(eval_metric='error', random_state = 0)\n",
    "xgb_classifier.fit(X_smote_sampled, y_smote_sampled)\n",
    "print('Best score:', np.round(accuracy_score(y_test, xgb_classifier.predict(X_test)), 6))\n",
    "evaluate_model(xgb_classifier)"
   ]
  },
  {
   "cell_type": "code",
   "execution_count": 24,
   "id": "25696725",
   "metadata": {},
   "outputs": [
    {
     "data": {
      "text/plain": [
       "<Figure size 200x100 with 0 Axes>"
      ]
     },
     "metadata": {},
     "output_type": "display_data"
    },
    {
     "data": {
      "image/png": "[encoded data removed]",
      "text/plain": [
       "<Figure size 640x480 with 2 Axes>"
      ]
     },
     "metadata": {},
     "output_type": "display_data"
    }
   ],
   "source": [
    "y_pred = xgb_classifier.predict(X_test)\n",
    "cm = confusion_matrix(y_test, y_pred)\n",
    "plt.figure(figsize=(2, 1))\n",
    "disp = ConfusionMatrixDisplay(confusion_matrix=cm)\n",
    "disp.plot(cmap=plt.cm.Reds)\n",
    "plt.show()"
   ]
  },
  {
   "cell_type": "markdown",
   "id": "d6382c11",
   "metadata": {},
   "source": [
    "## Metrics"
   ]
  },
  {
   "cell_type": "code",
   "execution_count": 25,
   "id": "856fc48c",
   "metadata": {},
   "outputs": [],
   "source": [
    "from sklearn import metrics\n",
    "model_name = []\n",
    "accuracy_score = []\n",
    "f1_score = []\n",
    "roc_auc_score = []\n",
    "recall_score = []\n",
    "precision_score = []\n",
    "    \n",
    "def metrics_models(name, model, X_test = X_test, y_test = y_test):\n",
    "    models = list()\n",
    "    models.append((name, model))\n",
    "    \n",
    "    for name, model in models:\n",
    "        model_name.append(name)\n",
    "        accuracy_score.append(metrics.accuracy_score(y_test, model.predict(X_test)))\n",
    "        f1_score.append(metrics.f1_score(y_test, model.predict(X_test)))\n",
    "        roc_auc_score.append(metrics.roc_auc_score(y_test, model.predict(X_test)))\n",
    "        recall_score.append(metrics.recall_score(y_test, model.predict(X_test)))\n",
    "        precision_score.append(metrics.precision_score(y_test, model.predict(X_test)))\n"
   ]
  },
  {
   "cell_type": "code",
   "execution_count": 26,
   "id": "5ce86009",
   "metadata": {},
   "outputs": [],
   "source": [
    "metrics_models('Base LinearRegression (Smote Oversample)', lr_baseline)\n",
    "metrics_models('LinearRegression (Smote Oversample)', lr_model)\n",
    "metrics_models('Base DecisionTreeClassifier (Smote Oversample)', tree_baseline)\n",
    "metrics_models('DecisionTreeClassifier (Smote Oversample)', tree_model)\n",
    "metrics_models('XGBoostClassifier (Smote Oversample)', xgb_classifier)"
   ]
  },
  {
   "cell_type": "code",
   "execution_count": 27,
   "id": "a8b94cdc",
   "metadata": {},
   "outputs": [],
   "source": [
    "metric_df_smote = pd.DataFrame({'Model': model_name,\n",
    "                           'Accuracy': accuracy_score,\n",
    "                           'F1-score': f1_score,\n",
    "                           'AUC': roc_auc_score,\n",
    "                           'Recall': recall_score,\n",
    "                           'Precision': precision_score})"
   ]
  },
  {
   "cell_type": "code",
   "execution_count": 28,
   "id": "797ee29b",
   "metadata": {},
   "outputs": [
    {
     "data": {
      "text/html": [
       "<div>\n",
       "<style scoped>\n",
       "    .dataframe tbody tr th:only-of-type {\n",
       "        vertical-align: middle;\n",
       "    }\n",
       "\n",
       "    .dataframe tbody tr th {\n",
       "        vertical-align: top;\n",
       "    }\n",
       "\n",
       "    .dataframe thead th {\n",
       "        text-align: right;\n",
       "    }\n",
       "</style>\n",
       "<table border=\"1\" class=\"dataframe\">\n",
       "  <thead>\n",
       "    <tr style=\"text-align: right;\">\n",
       "      <th></th>\n",
       "      <th>Model</th>\n",
       "      <th>Accuracy</th>\n",
       "      <th>F1-score</th>\n",
       "      <th>AUC</th>\n",
       "      <th>Recall</th>\n",
       "      <th>Precision</th>\n",
       "    </tr>\n",
       "  </thead>\n",
       "  <tbody>\n",
       "    <tr>\n",
       "      <th>0</th>\n",
       "      <td>Base LinearRegression (Smote Oversample)</td>\n",
       "      <td>0.702617</td>\n",
       "      <td>0.410379</td>\n",
       "      <td>0.685389</td>\n",
       "      <td>0.660295</td>\n",
       "      <td>0.297702</td>\n",
       "    </tr>\n",
       "    <tr>\n",
       "      <th>1</th>\n",
       "      <td>LinearRegression (Smote Oversample)</td>\n",
       "      <td>0.704492</td>\n",
       "      <td>0.409522</td>\n",
       "      <td>0.683862</td>\n",
       "      <td>0.653812</td>\n",
       "      <td>0.298129</td>\n",
       "    </tr>\n",
       "    <tr>\n",
       "      <th>2</th>\n",
       "      <td>Base DecisionTreeClassifier (Smote Oversample)</td>\n",
       "      <td>0.710869</td>\n",
       "      <td>0.322342</td>\n",
       "      <td>0.600096</td>\n",
       "      <td>0.438744</td>\n",
       "      <td>0.254754</td>\n",
       "    </tr>\n",
       "    <tr>\n",
       "      <th>3</th>\n",
       "      <td>DecisionTreeClassifier (Smote Oversample)</td>\n",
       "      <td>0.805337</td>\n",
       "      <td>0.311117</td>\n",
       "      <td>0.591676</td>\n",
       "      <td>0.280461</td>\n",
       "      <td>0.349297</td>\n",
       "    </tr>\n",
       "    <tr>\n",
       "      <th>4</th>\n",
       "      <td>XGBoostClassifier (Smote Oversample)</td>\n",
       "      <td>0.706489</td>\n",
       "      <td>0.408418</td>\n",
       "      <td>0.682043</td>\n",
       "      <td>0.646434</td>\n",
       "      <td>0.298508</td>\n",
       "    </tr>\n",
       "  </tbody>\n",
       "</table>\n",
       "</div>"
      ],
      "text/plain": [
       "                                            Model  Accuracy  F1-score  \\\n",
       "0        Base LinearRegression (Smote Oversample)  0.702617  0.410379   \n",
       "1             LinearRegression (Smote Oversample)  0.704492  0.409522   \n",
       "2  Base DecisionTreeClassifier (Smote Oversample)  0.710869  0.322342   \n",
       "3       DecisionTreeClassifier (Smote Oversample)  0.805337  0.311117   \n",
       "4            XGBoostClassifier (Smote Oversample)  0.706489  0.408418   \n",
       "\n",
       "        AUC    Recall  Precision  \n",
       "0  0.685389  0.660295   0.297702  \n",
       "1  0.683862  0.653812   0.298129  \n",
       "2  0.600096  0.438744   0.254754  \n",
       "3  0.591676  0.280461   0.349297  \n",
       "4  0.682043  0.646434   0.298508  "
      ]
     },
     "execution_count": 28,
     "metadata": {},
     "output_type": "execute_result"
    }
   ],
   "source": [
    "metric_df_smote"
   ]
  },
  {
   "cell_type": "markdown",
   "id": "d26af9b2",
   "metadata": {},
   "source": [
    "Linear Regression Models:\n",
    "Compared to random oversampling, SMOTE slightly lowered the recall (e.g., 0.6603 vs. 0.7383 for Base LinearRegression), but the overall performance metrics remained comparable. Precision remains a challenge, with no significant improvement.\n",
    "\n",
    "XGBoostClassifier:\n",
    "Similar to the linear regression models, recall is slightly lower with SMOTE (0.6464 vs. 0.7489 with random oversampling). The precision and F1-scores are also in the same range. SMOTE may have helped create more balanced decision boundaries, but the overall improvement isn't drastic compared to random oversampling.\n",
    "DecisionTreeClassifier Models:\n",
    "\n",
    "Decision tree models continue to underperform in both oversampling strategies. Their recall and AUC scores indicate that more sophisticated approaches (e.g., hyperparameter tuning or a different model altogether) may be necessary for these models."
   ]
  }
 ],
 "metadata": {
  "kernelspec": {
   "display_name": "Python 3 (ipykernel)",
   "language": "python",
   "name": "python3"
  },
  "language_info": {
   "codemirror_mode": {
    "name": "ipython",
    "version": 3
   },
   "file_extension": ".py",
   "mimetype": "text/x-python",
   "name": "python",
   "nbconvert_exporter": "python",
   "pygments_lexer": "ipython3",
   "version": "3.12.2"
  },
  "toc": {
   "base_numbering": 1,
   "nav_menu": {
    "height": "255.99px",
    "width": "571.354px"
   },
   "number_sections": true,
   "sideBar": true,
   "skip_h1_title": true,
   "title_cell": "Table of Contents",
   "title_sidebar": "Contents",
   "toc_cell": true,
   "toc_position": {},
   "toc_section_display": true,
   "toc_window_display": false
  },
  "varInspector": {
   "cols": {
    "lenName": 16,
    "lenType": 16,
    "lenVar": 40
   },
   "kernels_config": {
    "python": {
     "delete_cmd_postfix": "",
     "delete_cmd_prefix": "del ",
     "library": "var_list.py",
     "varRefreshCmd": "print(var_dic_list())"
    },
    "r": {
     "delete_cmd_postfix": ") ",
     "delete_cmd_prefix": "rm(",
     "library": "var_list.r",
     "varRefreshCmd": "cat(var_dic_list()) "
    }
   },
   "types_to_exclude": [
    "module",
    "function",
    "builtin_function_or_method",
    "instance",
    "_Feature"
   ],
   "window_display": false
  }
 },
 "nbformat": 4,
 "nbformat_minor": 5
}
