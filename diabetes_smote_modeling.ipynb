{
 "cells": [
  {
   "cell_type": "markdown",
   "id": "69b26c23",
   "metadata": {},
   "source": [
    "# Predicting Diabetes Using BRFSS Data"
   ]
  },
  {
   "cell_type": "code",
   "execution_count": 1,
   "id": "aec6b702",
   "metadata": {},
   "outputs": [],
   "source": [
    "import numpy as np\n",
    "import pandas as pd\n",
    "import seaborn as sns\n",
    "import matplotlib.pyplot as plt\n",
    "import plotly.express as px\n",
    "from sklearn.model_selection import train_test_split\n",
    "from sklearn.model_selection import cross_val_score\n",
    "from sklearn.model_selection import GridSearchCV\n",
    "from sklearn.pipeline import Pipeline, make_pipeline\n",
    "from sklearn.preprocessing import StandardScaler, MinMaxScaler\n",
    "from sklearn.naive_bayes import GaussianNB, MultinomialNB\n",
    "from sklearn.linear_model import LogisticRegression\n",
    "from sklearn.svm import SVC\n",
    "from sklearn.ensemble import RandomForestClassifier\n",
    "from sklearn.tree import DecisionTreeClassifier\n",
    "import xgboost as xgb\n",
    "from sklearn.metrics import accuracy_score, f1_score, recall_score, roc_auc_score, precision_score\n",
    "from sklearn.metrics import confusion_matrix, classification_report\n",
    "from sklearn.metrics import ConfusionMatrixDisplay\n",
    "from imblearn.over_sampling import SMOTE\n",
    "from collections import Counter"
   ]
  },
  {
   "cell_type": "code",
   "execution_count": 2,
   "id": "21bd4ff0",
   "metadata": {},
   "outputs": [],
   "source": [
    "import warnings\n",
    "warnings.filterwarnings(\"ignore\")"
   ]
  },
  {
   "cell_type": "code",
   "execution_count": 3,
   "id": "d62d01ef",
   "metadata": {},
   "outputs": [],
   "source": [
    "df = pd.read_csv('Diabetes_2022.csv')"
   ]
  },
  {
   "cell_type": "code",
   "execution_count": 4,
   "id": "139e1273",
   "metadata": {},
   "outputs": [],
   "source": [
    "y = df.Diabetes_01\n",
    "X = df.drop(['Diabetes_01'], axis=1)"
   ]
  },
  {
   "cell_type": "code",
   "execution_count": 5,
   "id": "9a337c2d",
   "metadata": {},
   "outputs": [],
   "source": [
    "X_train, X_test, y_train, y_test = train_test_split(X, y, test_size = 0.2, random_state = 0)"
   ]
  },
  {
   "cell_type": "code",
   "execution_count": 6,
   "id": "975224c7",
   "metadata": {},
   "outputs": [
    {
     "name": "stdout",
     "output_type": "stream",
     "text": [
      "X_train: (228311, 24) X_test: (57078, 24)\n",
      "y_train: (228311,) y_test: (57078,)\n"
     ]
    }
   ],
   "source": [
    "print('X_train:', X_train.shape, 'X_test:', X_test.shape)\n",
    "print('y_train:', y_train.shape, 'y_test:', y_test.shape)"
   ]
  },
  {
   "cell_type": "markdown",
   "id": "1e008f93",
   "metadata": {},
   "source": [
    "### SMOTE"
   ]
  },
  {
   "cell_type": "code",
   "execution_count": 7,
   "id": "326f102b",
   "metadata": {},
   "outputs": [
    {
     "name": "stdout",
     "output_type": "stream",
     "text": [
      "Original dataset shape Counter({0: 192339, 1: 35972})\n",
      "Resampled dataset shape Counter({1: 192339, 0: 192339})\n"
     ]
    }
   ],
   "source": [
    "smote = SMOTE(random_state=2)\n",
    "X_smote_sampled, y_smote_sampled = smote.fit_resample(X_train, y_train)\n",
    "\n",
    "print('Original dataset shape {}'.format(Counter(y_train)))\n",
    "print('Resampled dataset shape {}'.format(Counter(y_smote_sampled)))\n"
   ]
  },
  {
   "cell_type": "markdown",
   "id": "f2295dc6",
   "metadata": {},
   "source": [
    "## Modeling"
   ]
  },
  {
   "cell_type": "code",
   "execution_count": 8,
   "id": "ff7ecbf0",
   "metadata": {},
   "outputs": [],
   "source": [
    "def optimize_model(model, param_grid, cv = 5, X_train = X_train, y_train = y_train):\n",
    "    optimizer = GridSearchCV(model, param_grid = param_grid, scoring=\"accuracy\", cv = cv, n_jobs = -1, verbose = True)\n",
    "    optimizer.fit(X_train, y_train)\n",
    "    print('Best parameters found:')\n",
    "    print(optimizer.best_params_)\n",
    "    print('\\nBest score: %0.6f' % (optimizer.best_score_))\n",
    "    \n",
    "    return optimizer.best_estimator_"
   ]
  },
  {
   "cell_type": "code",
   "execution_count": 9,
   "id": "254ed4c0",
   "metadata": {},
   "outputs": [],
   "source": [
    "def evaluate_model(model, X_test = X_test, y_test = y_test):\n",
    "    y_pred = model.predict(X_test)\n",
    "    print('\\nClassification report: ')\n",
    "    print(classification_report(y_test, y_pred))"
   ]
  },
  {
   "cell_type": "markdown",
   "id": "4598ada3",
   "metadata": {},
   "source": [
    "### Logistic Regression"
   ]
  },
  {
   "cell_type": "code",
   "execution_count": 10,
   "id": "cde46b4d",
   "metadata": {},
   "outputs": [],
   "source": [
    "lr_model = Pipeline([(\"scaler\", StandardScaler()), (\"model\", LogisticRegression())])\n",
    "\n",
    "lr_param_grid = {'model__C' : 10**np.arange(-3,4, dtype = float), \n",
    "                 'model__penalty' : ['l1','l2'],  \n",
    "                 'model__class_weight' : ['balanced', None]}"
   ]
  },
  {
   "cell_type": "code",
   "execution_count": 11,
   "id": "61832a6d",
   "metadata": {},
   "outputs": [
    {
     "name": "stdout",
     "output_type": "stream",
     "text": [
      "Best score: 0.705123\n",
      "\n",
      "Classification report: \n",
      "              precision    recall  f1-score   support\n",
      "\n",
      "           0       0.92      0.72      0.80     48163\n",
      "           1       0.30      0.64      0.40      8915\n",
      "\n",
      "    accuracy                           0.71     57078\n",
      "   macro avg       0.61      0.68      0.60     57078\n",
      "weighted avg       0.82      0.71      0.74     57078\n",
      "\n"
     ]
    }
   ],
   "source": [
    "lr_baseline = LogisticRegression(random_state = 0)\n",
    "lr_baseline.fit(X_smote_sampled, y_smote_sampled)\n",
    "print('Best score:', np.round(accuracy_score(y_test, lr_baseline.predict(X_test)), 6))\n",
    "evaluate_model(lr_baseline)"
   ]
  },
  {
   "cell_type": "code",
   "execution_count": 12,
   "id": "0c81d03b",
   "metadata": {},
   "outputs": [
    {
     "name": "stdout",
     "output_type": "stream",
     "text": [
      "Fitting 5 folds for each of 28 candidates, totalling 140 fits\n",
      "Best parameters found:\n",
      "{'model__C': 0.001, 'model__class_weight': None, 'model__penalty': 'l2'}\n",
      "\n",
      "Best score: 0.846950\n",
      "\n",
      "Classification report: \n",
      "              precision    recall  f1-score   support\n",
      "\n",
      "           0       0.86      0.98      0.92     48163\n",
      "           1       0.56      0.16      0.25      8915\n",
      "\n",
      "    accuracy                           0.85     57078\n",
      "   macro avg       0.71      0.57      0.58     57078\n",
      "weighted avg       0.82      0.85      0.81     57078\n",
      "\n"
     ]
    }
   ],
   "source": [
    "lr_model = optimize_model(lr_model, lr_param_grid)\n",
    "evaluate_model(lr_model)"
   ]
  },
  {
   "cell_type": "code",
   "execution_count": 13,
   "id": "1e7ecfe6",
   "metadata": {},
   "outputs": [
    {
     "name": "stdout",
     "output_type": "stream",
     "text": [
      "Fitting 5 folds for each of 50 candidates, totalling 250 fits\n",
      "Best parameters found:\n",
      "{'model__C': 0.001}\n",
      "\n",
      "Best score: 0.846950\n",
      "\n",
      "Classification report: \n",
      "              precision    recall  f1-score   support\n",
      "\n",
      "           0       0.86      0.98      0.92     48163\n",
      "           1       0.56      0.16      0.25      8915\n",
      "\n",
      "    accuracy                           0.85     57078\n",
      "   macro avg       0.71      0.57      0.58     57078\n",
      "weighted avg       0.82      0.85      0.81     57078\n",
      "\n"
     ]
    }
   ],
   "source": [
    "lr_model = Pipeline([(\"scaler\", StandardScaler()), (\"model\", LogisticRegression())])\n",
    "lr_param_grid = {'model__C' : 10**np.linspace(-3, 0, num=50)}\n",
    "lr_model = optimize_model(lr_model, lr_param_grid)\n",
    "evaluate_model(lr_model)"
   ]
  },
  {
   "cell_type": "code",
   "execution_count": 14,
   "id": "77b34ae6",
   "metadata": {},
   "outputs": [
    {
     "data": {
      "text/plain": [
       "<Figure size 200x100 with 0 Axes>"
      ]
     },
     "metadata": {},
     "output_type": "display_data"
    },
    {
     "data": {
      "image/png": "[encoded data removed]",
      "text/plain": [
       "<Figure size 640x480 with 2 Axes>"
      ]
     },
     "metadata": {},
     "output_type": "display_data"
    }
   ],
   "source": [
    "y_pred = lr_model.predict(X_test)\n",
    "cm = confusion_matrix(y_test, y_pred)\n",
    "plt.figure(figsize=(2, 1))\n",
    "disp = ConfusionMatrixDisplay(confusion_matrix=cm)\n",
    "disp.plot(cmap=plt.cm.Reds)\n",
    "plt.show()\n"
   ]
  },
  {
   "cell_type": "markdown",
   "id": "9fc82ae0",
   "metadata": {},
   "source": [
    "### Decision Tree Classifier"
   ]
  },
  {
   "cell_type": "code",
   "execution_count": 15,
   "id": "2ec97330",
   "metadata": {},
   "outputs": [],
   "source": [
    "tree_model = Pipeline([(\"scaler\", StandardScaler()), (\"model\", DecisionTreeClassifier())])\n",
    "\n",
    "tree_param_grid = {'model__criterion': ['gini', 'entropy'],\n",
    "                   'model__max_depth': [2, 5, 10, 20, 30],\n",
    "                   'model__min_samples_leaf': [5, 10, 20, 30]}"
   ]
  },
  {
   "cell_type": "code",
   "execution_count": 16,
   "id": "c2d60a44",
   "metadata": {},
   "outputs": [
    {
     "name": "stdout",
     "output_type": "stream",
     "text": [
      "Best score: 0.710098\n",
      "\n",
      "Classification report: \n",
      "              precision    recall  f1-score   support\n",
      "\n",
      "           0       0.88      0.76      0.82     48163\n",
      "           1       0.25      0.42      0.31      8915\n",
      "\n",
      "    accuracy                           0.71     57078\n",
      "   macro avg       0.56      0.59      0.56     57078\n",
      "weighted avg       0.78      0.71      0.74     57078\n",
      "\n"
     ]
    }
   ],
   "source": [
    "tree_baseline = DecisionTreeClassifier(random_state = 0)\n",
    "tree_baseline.fit(X_smote_sampled, y_smote_sampled)\n",
    "print('Best score:', np.round(accuracy_score(y_test, tree_baseline.predict(X_test)), 6))\n",
    "evaluate_model(tree_baseline)"
   ]
  },
  {
   "cell_type": "code",
   "execution_count": 17,
   "id": "0d21eddc",
   "metadata": {},
   "outputs": [
    {
     "name": "stdout",
     "output_type": "stream",
     "text": [
      "Fitting 5 folds for each of 40 candidates, totalling 200 fits\n",
      "Best parameters found:\n",
      "{'model__criterion': 'entropy', 'model__max_depth': 10, 'model__min_samples_leaf': 30}\n",
      "\n",
      "Best score: 0.846468\n",
      "\n",
      "Classification report: \n",
      "              precision    recall  f1-score   support\n",
      "\n",
      "           0       0.86      0.98      0.92     48163\n",
      "           1       0.56      0.12      0.20      8915\n",
      "\n",
      "    accuracy                           0.85     57078\n",
      "   macro avg       0.71      0.55      0.56     57078\n",
      "weighted avg       0.81      0.85      0.80     57078\n",
      "\n"
     ]
    }
   ],
   "source": [
    "tree_model = optimize_model(tree_model, tree_param_grid)\n",
    "evaluate_model(tree_model)"
   ]
  },
  {
   "cell_type": "code",
   "execution_count": 18,
   "id": "0b1b336e",
   "metadata": {},
   "outputs": [
    {
     "name": "stdout",
     "output_type": "stream",
     "text": [
      "Fitting 5 folds for each of 12 candidates, totalling 60 fits\n",
      "Best parameters found:\n",
      "{'model__min_samples_leaf': 650}\n",
      "\n",
      "Best score: 0.848001\n",
      "\n",
      "Classification report: \n",
      "              precision    recall  f1-score   support\n",
      "\n",
      "           0       0.86      0.99      0.92     48163\n",
      "           1       0.58      0.11      0.19      8915\n",
      "\n",
      "    accuracy                           0.85     57078\n",
      "   macro avg       0.72      0.55      0.55     57078\n",
      "weighted avg       0.81      0.85      0.80     57078\n",
      "\n"
     ]
    }
   ],
   "source": [
    "tree_model = Pipeline([(\"scaler\", StandardScaler()), (\"model\", DecisionTreeClassifier(criterion = 'entropy', \n",
    "                                                                                      max_depth = 10))])\n",
    "tree_param_grid = {'model__min_samples_leaf': [30, 45, 50, 75, 100, 150, 200, 300, 500, 650, 750, 900]}\n",
    "tree_model = optimize_model(tree_model, tree_param_grid)\n",
    "evaluate_model(tree_model)"
   ]
  },
  {
   "cell_type": "markdown",
   "id": "ed0c7f40",
   "metadata": {},
   "source": [
    "Narrowing down the area"
   ]
  },
  {
   "cell_type": "code",
   "execution_count": 19,
   "id": "efd84cfe",
   "metadata": {},
   "outputs": [
    {
     "name": "stdout",
     "output_type": "stream",
     "text": [
      "Fitting 5 folds for each of 20 candidates, totalling 100 fits\n",
      "Best parameters found:\n",
      "{'model__min_samples_leaf': 645}\n",
      "\n",
      "Best score: 0.848001\n",
      "\n",
      "Classification report: \n",
      "              precision    recall  f1-score   support\n",
      "\n",
      "           0       0.86      0.99      0.92     48163\n",
      "           1       0.58      0.11      0.19      8915\n",
      "\n",
      "    accuracy                           0.85     57078\n",
      "   macro avg       0.72      0.55      0.55     57078\n",
      "weighted avg       0.81      0.85      0.80     57078\n",
      "\n"
     ]
    }
   ],
   "source": [
    "tree_model = Pipeline([(\"scaler\", StandardScaler()), (\"model\", DecisionTreeClassifier(criterion = 'entropy', \n",
    "                                                                                      max_depth = 10))])\n",
    "tree_param_grid = {'model__min_samples_leaf': np.arange(630,650,1)}\n",
    "tree_model = optimize_model(tree_model, tree_param_grid)\n",
    "evaluate_model(tree_model)"
   ]
  },
  {
   "cell_type": "code",
   "execution_count": 20,
   "id": "e5a177db",
   "metadata": {},
   "outputs": [
    {
     "data": {
      "text/plain": [
       "<Figure size 200x100 with 0 Axes>"
      ]
     },
     "metadata": {},
     "output_type": "display_data"
    },
    {
     "data": {
      "image/png": "[encoded data removed]",
      "text/plain": [
       "<Figure size 640x480 with 2 Axes>"
      ]
     },
     "metadata": {},
     "output_type": "display_data"
    }
   ],
   "source": [
    "y_pred = tree_model.predict(X_test)\n",
    "cm = confusion_matrix(y_test, y_pred)\n",
    "plt.figure(figsize=(2, 1))\n",
    "disp = ConfusionMatrixDisplay(confusion_matrix=cm)\n",
    "disp.plot(cmap=plt.cm.Reds)\n",
    "plt.show()"
   ]
  },
  {
   "cell_type": "markdown",
   "id": "64ffb0ff",
   "metadata": {},
   "source": [
    "### XGBoost Classifier"
   ]
  },
  {
   "cell_type": "code",
   "execution_count": 21,
   "id": "60e028f2",
   "metadata": {},
   "outputs": [
    {
     "name": "stdout",
     "output_type": "stream",
     "text": [
      "Best score: 0.711903\n",
      "\n",
      "Classification report: \n",
      "              precision    recall  f1-score   support\n",
      "\n",
      "           0       0.91      0.73      0.81     48163\n",
      "           1       0.30      0.62      0.40      8915\n",
      "\n",
      "    accuracy                           0.71     57078\n",
      "   macro avg       0.61      0.68      0.61     57078\n",
      "weighted avg       0.82      0.71      0.75     57078\n",
      "\n"
     ]
    }
   ],
   "source": [
    "xgb_classifier = xgb.XGBClassifier(eval_metric='error', random_state = 0)\n",
    "xgb_classifier.fit(X_smote_sampled, y_smote_sampled)\n",
    "print('Best score:', np.round(accuracy_score(y_test, xgb_classifier.predict(X_test)), 6))\n",
    "evaluate_model(xgb_classifier)"
   ]
  },
  {
   "cell_type": "code",
   "execution_count": 22,
   "id": "25696725",
   "metadata": {},
   "outputs": [
    {
     "data": {
      "text/plain": [
       "<Figure size 200x100 with 0 Axes>"
      ]
     },
     "metadata": {},
     "output_type": "display_data"
    },
    {
     "data": {
      "image/png": "[encoded data removed]",
      "text/plain": [
       "<Figure size 640x480 with 2 Axes>"
      ]
     },
     "metadata": {},
     "output_type": "display_data"
    }
   ],
   "source": [
    "y_pred = xgb_classifier.predict(X_test)\n",
    "cm = confusion_matrix(y_test, y_pred)\n",
    "plt.figure(figsize=(2, 1))\n",
    "disp = ConfusionMatrixDisplay(confusion_matrix=cm)\n",
    "disp.plot(cmap=plt.cm.Reds)\n",
    "plt.show()"
   ]
  },
  {
   "cell_type": "markdown",
   "id": "d6382c11",
   "metadata": {},
   "source": [
    "## Metrics"
   ]
  },
  {
   "cell_type": "code",
   "execution_count": 23,
   "id": "856fc48c",
   "metadata": {},
   "outputs": [],
   "source": [
    "from sklearn import metrics\n",
    "model_name = []\n",
    "accuracy_score = []\n",
    "f1_score = []\n",
    "roc_auc_score = []\n",
    "recall_score = []\n",
    "precision_score = []\n",
    "    \n",
    "def metrics_models(name, model, X_test = X_test, y_test = y_test):\n",
    "    models = list()\n",
    "    models.append((name, model))\n",
    "    \n",
    "    for name, model in models:\n",
    "        model_name.append(name)\n",
    "        accuracy_score.append(metrics.accuracy_score(y_test, model.predict(X_test)))\n",
    "        f1_score.append(metrics.f1_score(y_test, model.predict(X_test)))\n",
    "        roc_auc_score.append(metrics.roc_auc_score(y_test, model.predict(X_test)))\n",
    "        recall_score.append(metrics.recall_score(y_test, model.predict(X_test)))\n",
    "        precision_score.append(metrics.precision_score(y_test, model.predict(X_test)))\n"
   ]
  },
  {
   "cell_type": "code",
   "execution_count": 24,
   "id": "5ce86009",
   "metadata": {},
   "outputs": [],
   "source": [
    "metrics_models('Base LinearRegression (Smote Oversample)', lr_baseline)\n",
    "metrics_models('LinearRegression (Smote Oversample)', lr_model)\n",
    "metrics_models('Base DecisionTreeClassifier (Smote Oversample)', tree_baseline)\n",
    "metrics_models('DecisionTreeClassifier (Smote Oversample)', tree_model)\n",
    "metrics_models('XGBoostClassifier (Smote Oversample)', xgb_classifier)"
   ]
  },
  {
   "cell_type": "code",
   "execution_count": 25,
   "id": "a8b94cdc",
   "metadata": {},
   "outputs": [],
   "source": [
    "metric_df_smote = pd.DataFrame({'Model': model_name,\n",
    "                           'Accuracy': accuracy_score,\n",
    "                           'F1-score': f1_score,\n",
    "                           'AUC': roc_auc_score,\n",
    "                           'Recall': recall_score,\n",
    "                           'Precision': precision_score})"
   ]
  },
  {
   "cell_type": "code",
   "execution_count": 26,
   "id": "797ee29b",
   "metadata": {},
   "outputs": [
    {
     "data": {
      "text/html": [
       "<div>\n",
       "<style scoped>\n",
       "    .dataframe tbody tr th:only-of-type {\n",
       "        vertical-align: middle;\n",
       "    }\n",
       "\n",
       "    .dataframe tbody tr th {\n",
       "        vertical-align: top;\n",
       "    }\n",
       "\n",
       "    .dataframe thead th {\n",
       "        text-align: right;\n",
       "    }\n",
       "</style>\n",
       "<table border=\"1\" class=\"dataframe\">\n",
       "  <thead>\n",
       "    <tr style=\"text-align: right;\">\n",
       "      <th></th>\n",
       "      <th>Model</th>\n",
       "      <th>Accuracy</th>\n",
       "      <th>F1-score</th>\n",
       "      <th>AUC</th>\n",
       "      <th>Recall</th>\n",
       "      <th>Precision</th>\n",
       "    </tr>\n",
       "  </thead>\n",
       "  <tbody>\n",
       "    <tr>\n",
       "      <th>0</th>\n",
       "      <td>Base LinearRegression (Smote Oversample)</td>\n",
       "      <td>0.705123</td>\n",
       "      <td>0.404697</td>\n",
       "      <td>0.679292</td>\n",
       "      <td>0.641727</td>\n",
       "      <td>0.295537</td>\n",
       "    </tr>\n",
       "    <tr>\n",
       "      <th>1</th>\n",
       "      <td>LinearRegression (Smote Oversample)</td>\n",
       "      <td>0.849347</td>\n",
       "      <td>0.245768</td>\n",
       "      <td>0.567312</td>\n",
       "      <td>0.157151</td>\n",
       "      <td>0.563556</td>\n",
       "    </tr>\n",
       "    <tr>\n",
       "      <th>2</th>\n",
       "      <td>Base DecisionTreeClassifier (Smote Oversample)</td>\n",
       "      <td>0.710098</td>\n",
       "      <td>0.310858</td>\n",
       "      <td>0.591336</td>\n",
       "      <td>0.418620</td>\n",
       "      <td>0.247218</td>\n",
       "    </tr>\n",
       "    <tr>\n",
       "      <th>3</th>\n",
       "      <td>DecisionTreeClassifier (Smote Oversample)</td>\n",
       "      <td>0.848838</td>\n",
       "      <td>0.189098</td>\n",
       "      <td>0.548958</td>\n",
       "      <td>0.112844</td>\n",
       "      <td>0.583188</td>\n",
       "    </tr>\n",
       "    <tr>\n",
       "      <th>4</th>\n",
       "      <td>XGBoostClassifier (Smote Oversample)</td>\n",
       "      <td>0.711903</td>\n",
       "      <td>0.403165</td>\n",
       "      <td>0.675677</td>\n",
       "      <td>0.622995</td>\n",
       "      <td>0.298009</td>\n",
       "    </tr>\n",
       "  </tbody>\n",
       "</table>\n",
       "</div>"
      ],
      "text/plain": [
       "                                            Model  Accuracy  F1-score  \\\n",
       "0        Base LinearRegression (Smote Oversample)  0.705123  0.404697   \n",
       "1             LinearRegression (Smote Oversample)  0.849347  0.245768   \n",
       "2  Base DecisionTreeClassifier (Smote Oversample)  0.710098  0.310858   \n",
       "3       DecisionTreeClassifier (Smote Oversample)  0.848838  0.189098   \n",
       "4            XGBoostClassifier (Smote Oversample)  0.711903  0.403165   \n",
       "\n",
       "        AUC    Recall  Precision  \n",
       "0  0.679292  0.641727   0.295537  \n",
       "1  0.567312  0.157151   0.563556  \n",
       "2  0.591336  0.418620   0.247218  \n",
       "3  0.548958  0.112844   0.583188  \n",
       "4  0.675677  0.622995   0.298009  "
      ]
     },
     "execution_count": 26,
     "metadata": {},
     "output_type": "execute_result"
    }
   ],
   "source": [
    "metric_df_smote"
   ]
  }
 ],
 "metadata": {
  "kernelspec": {
   "display_name": "Python 3 (ipykernel)",
   "language": "python",
   "name": "python3"
  },
  "language_info": {
   "codemirror_mode": {
    "name": "ipython",
    "version": 3
   },
   "file_extension": ".py",
   "mimetype": "text/x-python",
   "name": "python",
   "nbconvert_exporter": "python",
   "pygments_lexer": "ipython3",
   "version": "3.12.2"
  },
  "toc": {
   "base_numbering": 1,
   "nav_menu": {
    "height": "255.99px",
    "width": "571.354px"
   },
   "number_sections": true,
   "sideBar": true,
   "skip_h1_title": true,
   "title_cell": "Table of Contents",
   "title_sidebar": "Contents",
   "toc_cell": true,
   "toc_position": {},
   "toc_section_display": true,
   "toc_window_display": false
  },
  "varInspector": {
   "cols": {
    "lenName": 16,
    "lenType": 16,
    "lenVar": 40
   },
   "kernels_config": {
    "python": {
     "delete_cmd_postfix": "",
     "delete_cmd_prefix": "del ",
     "library": "var_list.py",
     "varRefreshCmd": "print(var_dic_list())"
    },
    "r": {
     "delete_cmd_postfix": ") ",
     "delete_cmd_prefix": "rm(",
     "library": "var_list.r",
     "varRefreshCmd": "cat(var_dic_list()) "
    }
   },
   "types_to_exclude": [
    "module",
    "function",
    "builtin_function_or_method",
    "instance",
    "_Feature"
   ],
   "window_display": false
  }
 },
 "nbformat": 4,
 "nbformat_minor": 5
}
