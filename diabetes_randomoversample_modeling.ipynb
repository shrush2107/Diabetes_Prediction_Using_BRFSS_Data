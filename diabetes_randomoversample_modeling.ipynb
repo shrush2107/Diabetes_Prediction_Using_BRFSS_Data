{
 "cells": [
  {
   "cell_type": "markdown",
   "id": "69b26c23",
   "metadata": {},
   "source": [
    "# Predicting Diabetes Using BRFSS Data"
   ]
  },
  {
   "cell_type": "code",
   "execution_count": 1,
   "id": "aec6b702",
   "metadata": {},
   "outputs": [],
   "source": [
    "import numpy as np\n",
    "import pandas as pd\n",
    "import seaborn as sns\n",
    "import matplotlib.pyplot as plt\n",
    "import plotly.express as px\n",
    "from sklearn.model_selection import train_test_split\n",
    "from sklearn.model_selection import cross_val_score\n",
    "from sklearn.model_selection import GridSearchCV\n",
    "from sklearn.pipeline import Pipeline, make_pipeline\n",
    "from sklearn.preprocessing import StandardScaler, MinMaxScaler\n",
    "from sklearn.linear_model import LogisticRegression\n",
    "from sklearn.tree import DecisionTreeClassifier\n",
    "import xgboost as xgb\n",
    "from sklearn.metrics import accuracy_score, f1_score, recall_score, roc_auc_score, precision_score\n",
    "from sklearn.metrics import confusion_matrix, classification_report\n",
    "from sklearn.metrics import ConfusionMatrixDisplay\n",
    "from imblearn.over_sampling import RandomOverSampler\n",
    "from collections import Counter\n",
    "from sklearn.metrics import make_scorer, recall_score, accuracy_score\n"
   ]
  },
  {
   "cell_type": "code",
   "execution_count": 2,
   "id": "21bd4ff0",
   "metadata": {},
   "outputs": [],
   "source": [
    "import warnings\n",
    "warnings.filterwarnings(\"ignore\")"
   ]
  },
  {
   "cell_type": "code",
   "execution_count": 3,
   "id": "d62d01ef",
   "metadata": {},
   "outputs": [],
   "source": [
    "df = pd.read_csv('Diabetes_2022.csv')"
   ]
  },
  {
   "cell_type": "code",
   "execution_count": 4,
   "id": "139e1273",
   "metadata": {},
   "outputs": [],
   "source": [
    "y = df.Diabetes_01\n",
    "X = df.drop(['Diabetes_01'], axis=1)"
   ]
  },
  {
   "cell_type": "code",
   "execution_count": 5,
   "id": "9a337c2d",
   "metadata": {},
   "outputs": [],
   "source": [
    "X_train, X_test, y_train, y_test = train_test_split(X, y, test_size = 0.2, random_state = 42)"
   ]
  },
  {
   "cell_type": "code",
   "execution_count": 6,
   "id": "975224c7",
   "metadata": {},
   "outputs": [
    {
     "name": "stdout",
     "output_type": "stream",
     "text": [
      "X_train: (228311, 24) X_test: (57078, 24)\n",
      "y_train: (228311,) y_test: (57078,)\n"
     ]
    }
   ],
   "source": [
    "print('X_train:', X_train.shape, 'X_test:', X_test.shape)\n",
    "print('y_train:', y_train.shape, 'y_test:', y_test.shape)"
   ]
  },
  {
   "cell_type": "markdown",
   "id": "1e008f93",
   "metadata": {},
   "source": [
    "### Random Oversampling"
   ]
  },
  {
   "cell_type": "code",
   "execution_count": 7,
   "id": "47c411e0",
   "metadata": {},
   "outputs": [
    {
     "name": "stdout",
     "output_type": "stream",
     "text": [
      "Original dataset shape Counter({0: 192370, 1: 35941})\n",
      "Resampled dataset shape Counter({0: 192370, 1: 192370})\n"
     ]
    }
   ],
   "source": [
    "ros = RandomOverSampler(random_state=42)\n",
    "X_over_sampled, y_over_sampled = ros.fit_resample(X_train, y_train)\n",
    "\n",
    "print('Original dataset shape {}'.format(Counter(y_train)))\n",
    "print('Resampled dataset shape {}'.format(Counter(y_over_sampled)))"
   ]
  },
  {
   "cell_type": "markdown",
   "id": "f2295dc6",
   "metadata": {},
   "source": [
    "## Modeling"
   ]
  },
  {
   "cell_type": "code",
   "execution_count": 8,
   "id": "7eefb3d7",
   "metadata": {},
   "outputs": [],
   "source": [
    "def optimize_model(model, param_grid, primary_metric=\"recall\", cv=5, X_train = X_train, y_train = y_train):\n",
    "    scoring = {\n",
    "        'accuracy': make_scorer(accuracy_score),\n",
    "        'recall': make_scorer(recall_score)\n",
    "    }\n",
    "    \n",
    "    optimizer = GridSearchCV(estimator=model, \n",
    "                             param_grid=param_grid, \n",
    "                             scoring=scoring, \n",
    "                             refit=primary_metric, \n",
    "                             cv=cv, \n",
    "                             n_jobs=-1, \n",
    "                             verbose=True)\n",
    "    \n",
    "    optimizer.fit(X_train, y_train)\n",
    "    print('Best parameters found:')\n",
    "    print(optimizer.best_params_)\n",
    "    print(f'\\nBest {primary_metric} score: %0.6f' % (optimizer.best_score_))\n",
    "    if primary_metric == 'recall':\n",
    "        print(f\"Corresponding accuracy: {optimizer.cv_results_['mean_test_accuracy'][optimizer.best_index_]:0.6f}\")\n",
    "    else:\n",
    "        print(f\"Corresponding recall: {optimizer.cv_results_['mean_test_recall'][optimizer.best_index_]:0.6f}\")\n",
    "    \n",
    "    return optimizer.best_estimator_\n"
   ]
  },
  {
   "cell_type": "code",
   "execution_count": 9,
   "id": "254ed4c0",
   "metadata": {},
   "outputs": [],
   "source": [
    "def evaluate_model(model, X_test = X_test, y_test = y_test):\n",
    "    y_pred = model.predict(X_test)\n",
    "    print('\\nClassification report: ')\n",
    "    print(classification_report(y_test, y_pred))"
   ]
  },
  {
   "cell_type": "markdown",
   "id": "4598ada3",
   "metadata": {},
   "source": [
    "### Logistic Regression"
   ]
  },
  {
   "cell_type": "code",
   "execution_count": 10,
   "id": "61832a6d",
   "metadata": {},
   "outputs": [
    {
     "name": "stdout",
     "output_type": "stream",
     "text": [
      "Best score: 0.718806\n",
      "\n",
      "Classification report: \n",
      "              precision    recall  f1-score   support\n",
      "\n",
      "           0       0.94      0.72      0.81     48132\n",
      "           1       0.33      0.74      0.45      8946\n",
      "\n",
      "    accuracy                           0.72     57078\n",
      "   macro avg       0.63      0.73      0.63     57078\n",
      "weighted avg       0.84      0.72      0.75     57078\n",
      "\n"
     ]
    }
   ],
   "source": [
    "lr_baseline = LogisticRegression(random_state = 0)\n",
    "lr_baseline.fit(X_over_sampled, y_over_sampled)\n",
    "print('Best score:', np.round(accuracy_score(y_test, lr_baseline.predict(X_test)), 6))\n",
    "evaluate_model(lr_baseline)"
   ]
  },
  {
   "cell_type": "code",
   "execution_count": 12,
   "id": "313bd795",
   "metadata": {},
   "outputs": [
    {
     "name": "stdout",
     "output_type": "stream",
     "text": [
      "Best Parameters: {'C': 0.001, 'max_iter': 100, 'penalty': 'l1', 'solver': 'saga'}\n",
      "Best Recall Score (used for refit): 0.7425066278525757\n",
      "Best Accuracy Score: 0.7259421947289078\n"
     ]
    }
   ],
   "source": [
    "param_grid = {\n",
    "    'penalty': ['l1', 'l2', 'elasticnet'],\n",
    "    'C': [0.001, 0.01, 0.1, 1, 10,100],\n",
    "    'solver': ['lbfgs', 'saga'],\n",
    "    'max_iter': [100, 200]\n",
    "}\n",
    "scoring = {\n",
    "    'accuracy': make_scorer(accuracy_score),\n",
    "    'recall': make_scorer(recall_score)\n",
    "}\n",
    "grid_search = GridSearchCV(estimator=lr_baseline, param_grid=param_grid, scoring=scoring, refit='recall', cv=5)\n",
    "grid_search.fit(X_over_sampled, y_over_sampled)\n",
    "best_model = grid_search.best_estimator_\n",
    "best_params = grid_search.best_params_\n",
    "print(\"Best Parameters:\", best_params)\n",
    "best_recall_score = grid_search.best_score_\n",
    "print(\"Best Recall Score (used for refit):\", best_recall_score)\n",
    "best_index = grid_search.best_index_  \n",
    "best_accuracy_score = grid_search.cv_results_['mean_test_accuracy'][best_index]\n",
    "print(\"Best Accuracy Score:\", best_accuracy_score)"
   ]
  },
  {
   "cell_type": "code",
   "execution_count": 13,
   "id": "fef4d92c",
   "metadata": {},
   "outputs": [],
   "source": [
    "lr_model = grid_search.best_estimator_ "
   ]
  },
  {
   "cell_type": "code",
   "execution_count": 14,
   "id": "77b34ae6",
   "metadata": {},
   "outputs": [
    {
     "data": {
      "text/plain": [
       "<Figure size 200x100 with 0 Axes>"
      ]
     },
     "metadata": {},
     "output_type": "display_data"
    },
    {
     "data": {
      "image/png": "[encoded data removed]",
      "text/plain": [
       "<Figure size 640x480 with 2 Axes>"
      ]
     },
     "metadata": {},
     "output_type": "display_data"
    }
   ],
   "source": [
    "y_pred = lr_model.predict(X_test)\n",
    "cm = confusion_matrix(y_test, y_pred)\n",
    "plt.figure(figsize=(2, 1))\n",
    "disp = ConfusionMatrixDisplay(confusion_matrix=cm)\n",
    "disp.plot(cmap=plt.cm.Reds)\n",
    "plt.show()\n"
   ]
  },
  {
   "cell_type": "markdown",
   "id": "9fc82ae0",
   "metadata": {},
   "source": [
    "### Decision Tree Classifier"
   ]
  },
  {
   "cell_type": "code",
   "execution_count": 15,
   "id": "2ec97330",
   "metadata": {},
   "outputs": [],
   "source": [
    "tree_model = Pipeline([(\"scaler\", StandardScaler()), (\"model\", DecisionTreeClassifier())])\n",
    "\n",
    "tree_param_grid = {'model__criterion': ['gini', 'entropy'],\n",
    "                   'model__max_depth': [2, 5, 10, 20, 30],\n",
    "                   'model__min_samples_leaf': [5, 10, 20, 30]}"
   ]
  },
  {
   "cell_type": "code",
   "execution_count": 16,
   "id": "c2d60a44",
   "metadata": {},
   "outputs": [
    {
     "name": "stdout",
     "output_type": "stream",
     "text": [
      "Best score: 0.764305\n",
      "\n",
      "Classification report: \n",
      "              precision    recall  f1-score   support\n",
      "\n",
      "           0       0.87      0.85      0.86     48132\n",
      "           1       0.28      0.31      0.29      8946\n",
      "\n",
      "    accuracy                           0.76     57078\n",
      "   macro avg       0.57      0.58      0.58     57078\n",
      "weighted avg       0.78      0.76      0.77     57078\n",
      "\n"
     ]
    }
   ],
   "source": [
    "tree_baseline = DecisionTreeClassifier(random_state = 0)\n",
    "tree_baseline.fit(X_over_sampled, y_over_sampled)\n",
    "print('Best score:', np.round(accuracy_score(y_test, tree_baseline.predict(X_test)), 6))\n",
    "evaluate_model(tree_baseline)"
   ]
  },
  {
   "cell_type": "code",
   "execution_count": 17,
   "id": "0d21eddc",
   "metadata": {},
   "outputs": [
    {
     "name": "stdout",
     "output_type": "stream",
     "text": [
      "Fitting 5 folds for each of 40 candidates, totalling 200 fits\n",
      "Best parameters found:\n",
      "{'model__criterion': 'gini', 'model__max_depth': 30, 'model__min_samples_leaf': 5}\n",
      "\n",
      "Best recall score: 0.255224\n",
      "Corresponding accuracy: 0.816995\n",
      "\n",
      "Classification report: \n",
      "              precision    recall  f1-score   support\n",
      "\n",
      "           0       0.87      0.92      0.90     48132\n",
      "           1       0.38      0.26      0.31      8946\n",
      "\n",
      "    accuracy                           0.82     57078\n",
      "   macro avg       0.63      0.59      0.60     57078\n",
      "weighted avg       0.79      0.82      0.80     57078\n",
      "\n"
     ]
    }
   ],
   "source": [
    "tree_model = optimize_model(tree_model, tree_param_grid)\n",
    "evaluate_model(tree_model)"
   ]
  },
  {
   "cell_type": "code",
   "execution_count": 18,
   "id": "0b1b336e",
   "metadata": {},
   "outputs": [
    {
     "name": "stdout",
     "output_type": "stream",
     "text": [
      "Fitting 5 folds for each of 30 candidates, totalling 150 fits\n",
      "Best parameters found:\n",
      "{'model__max_depth': 35, 'model__min_samples_leaf': 3}\n",
      "\n",
      "Best recall score: 0.280627\n",
      "Corresponding accuracy: 0.803833\n",
      "\n",
      "Classification report: \n",
      "              precision    recall  f1-score   support\n",
      "\n",
      "           0       0.87      0.90      0.89     48132\n",
      "           1       0.35      0.28      0.31      8946\n",
      "\n",
      "    accuracy                           0.80     57078\n",
      "   macro avg       0.61      0.59      0.60     57078\n",
      "weighted avg       0.79      0.80      0.80     57078\n",
      "\n"
     ]
    }
   ],
   "source": [
    "tree_model = Pipeline([(\"scaler\", StandardScaler()), (\"model\", DecisionTreeClassifier(criterion = 'entropy'))])\n",
    "tree_param_grid = {'model__min_samples_leaf': [3,4,5,6,7,8],\n",
    "                   'model__max_depth': [30, 35, 40, 45, 50]}\n",
    "tree_model = optimize_model(tree_model, tree_param_grid)\n",
    "evaluate_model(tree_model)"
   ]
  },
  {
   "cell_type": "code",
   "execution_count": 19,
   "id": "e5a177db",
   "metadata": {},
   "outputs": [
    {
     "data": {
      "text/plain": [
       "<Figure size 200x100 with 0 Axes>"
      ]
     },
     "metadata": {},
     "output_type": "display_data"
    },
    {
     "data": {
      "image/png": "[encoded data removed]",
      "text/plain": [
       "<Figure size 640x480 with 2 Axes>"
      ]
     },
     "metadata": {},
     "output_type": "display_data"
    }
   ],
   "source": [
    "y_pred = tree_model.predict(X_test)\n",
    "cm = confusion_matrix(y_test, y_pred)\n",
    "plt.figure(figsize=(2, 1))\n",
    "disp = ConfusionMatrixDisplay(confusion_matrix=cm)\n",
    "disp.plot(cmap=plt.cm.Reds)\n",
    "plt.show()"
   ]
  },
  {
   "cell_type": "markdown",
   "id": "64ffb0ff",
   "metadata": {},
   "source": [
    "### XGBoost Classifier"
   ]
  },
  {
   "cell_type": "code",
   "execution_count": 20,
   "id": "60e028f2",
   "metadata": {},
   "outputs": [
    {
     "name": "stdout",
     "output_type": "stream",
     "text": [
      "Best score: 0.715214\n",
      "\n",
      "Classification report: \n",
      "              precision    recall  f1-score   support\n",
      "\n",
      "           0       0.94      0.71      0.81     48132\n",
      "           1       0.32      0.75      0.45      8946\n",
      "\n",
      "    accuracy                           0.72     57078\n",
      "   macro avg       0.63      0.73      0.63     57078\n",
      "weighted avg       0.84      0.72      0.75     57078\n",
      "\n"
     ]
    }
   ],
   "source": [
    "xgb_classifier = xgb.XGBClassifier(eval_metric='error', random_state = 0)\n",
    "xgb_classifier.fit(X_over_sampled, y_over_sampled)\n",
    "print('Best score:', np.round(accuracy_score(y_test, xgb_classifier.predict(X_test)), 6))\n",
    "evaluate_model(xgb_classifier)"
   ]
  },
  {
   "cell_type": "code",
   "execution_count": 21,
   "id": "25696725",
   "metadata": {},
   "outputs": [
    {
     "data": {
      "text/plain": [
       "<Figure size 200x100 with 0 Axes>"
      ]
     },
     "metadata": {},
     "output_type": "display_data"
    },
    {
     "data": {
      "image/png": "[encoded data removed]",
      "text/plain": [
       "<Figure size 640x480 with 2 Axes>"
      ]
     },
     "metadata": {},
     "output_type": "display_data"
    }
   ],
   "source": [
    "y_pred = xgb_classifier.predict(X_test)\n",
    "cm = confusion_matrix(y_test, y_pred)\n",
    "plt.figure(figsize=(2, 1))\n",
    "disp = ConfusionMatrixDisplay(confusion_matrix=cm)\n",
    "disp.plot(cmap=plt.cm.Reds)\n",
    "plt.show()"
   ]
  },
  {
   "cell_type": "markdown",
   "id": "d6382c11",
   "metadata": {},
   "source": [
    "## Metrics"
   ]
  },
  {
   "cell_type": "code",
   "execution_count": 22,
   "id": "856fc48c",
   "metadata": {},
   "outputs": [],
   "source": [
    "from sklearn import metrics\n",
    "model_name = []\n",
    "accuracy_score = []\n",
    "f1_score = []\n",
    "roc_auc_score = []\n",
    "recall_score = []\n",
    "precision_score = []\n",
    "    \n",
    "def metrics_models(name, model, X_test = X_test, y_test = y_test):\n",
    "    models = list()\n",
    "    models.append((name, model))\n",
    "    \n",
    "    for name, model in models:\n",
    "        model_name.append(name)\n",
    "        accuracy_score.append(metrics.accuracy_score(y_test, model.predict(X_test)))\n",
    "        f1_score.append(metrics.f1_score(y_test, model.predict(X_test)))\n",
    "        roc_auc_score.append(metrics.roc_auc_score(y_test, model.predict(X_test)))\n",
    "        recall_score.append(metrics.recall_score(y_test, model.predict(X_test)))\n",
    "        precision_score.append(metrics.precision_score(y_test, model.predict(X_test)))\n"
   ]
  },
  {
   "cell_type": "code",
   "execution_count": 23,
   "id": "5ce86009",
   "metadata": {},
   "outputs": [],
   "source": [
    "metrics_models('Base LinearRegression (Random Oversample)', lr_baseline)\n",
    "metrics_models('LinearRegression (Random Oversample)', lr_model)\n",
    "metrics_models('Base DecisionTreeClassifier (Random Oversample)', tree_baseline)\n",
    "metrics_models('DecisionTreeClassifier (Random Oversample)', tree_model)\n",
    "metrics_models('XGBoostClassifier (Random Oversample)', xgb_classifier)"
   ]
  },
  {
   "cell_type": "code",
   "execution_count": 24,
   "id": "a8b94cdc",
   "metadata": {},
   "outputs": [],
   "source": [
    "metric_df_random_oversample = pd.DataFrame({'Model': model_name,\n",
    "                           'Accuracy': accuracy_score,\n",
    "                           'F1-score': f1_score,\n",
    "                           'AUC': roc_auc_score,\n",
    "                           'Recall': recall_score,\n",
    "                           'Precision': precision_score})"
   ]
  },
  {
   "cell_type": "code",
   "execution_count": 25,
   "id": "797ee29b",
   "metadata": {},
   "outputs": [
    {
     "data": {
      "text/html": [
       "<div>\n",
       "<style scoped>\n",
       "    .dataframe tbody tr th:only-of-type {\n",
       "        vertical-align: middle;\n",
       "    }\n",
       "\n",
       "    .dataframe tbody tr th {\n",
       "        vertical-align: top;\n",
       "    }\n",
       "\n",
       "    .dataframe thead th {\n",
       "        text-align: right;\n",
       "    }\n",
       "</style>\n",
       "<table border=\"1\" class=\"dataframe\">\n",
       "  <thead>\n",
       "    <tr style=\"text-align: right;\">\n",
       "      <th></th>\n",
       "      <th>Model</th>\n",
       "      <th>Accuracy</th>\n",
       "      <th>F1-score</th>\n",
       "      <th>AUC</th>\n",
       "      <th>Recall</th>\n",
       "      <th>Precision</th>\n",
       "    </tr>\n",
       "  </thead>\n",
       "  <tbody>\n",
       "    <tr>\n",
       "      <th>0</th>\n",
       "      <td>Base LinearRegression (Random Oversample)</td>\n",
       "      <td>0.718806</td>\n",
       "      <td>0.451470</td>\n",
       "      <td>0.726749</td>\n",
       "      <td>0.738319</td>\n",
       "      <td>0.325145</td>\n",
       "    </tr>\n",
       "    <tr>\n",
       "      <th>1</th>\n",
       "      <td>LinearRegression (Random Oversample)</td>\n",
       "      <td>0.714584</td>\n",
       "      <td>0.449089</td>\n",
       "      <td>0.725838</td>\n",
       "      <td>0.742231</td>\n",
       "      <td>0.321939</td>\n",
       "    </tr>\n",
       "    <tr>\n",
       "      <th>2</th>\n",
       "      <td>Base DecisionTreeClassifier (Random Oversample)</td>\n",
       "      <td>0.764305</td>\n",
       "      <td>0.294065</td>\n",
       "      <td>0.580680</td>\n",
       "      <td>0.313213</td>\n",
       "      <td>0.277124</td>\n",
       "    </tr>\n",
       "    <tr>\n",
       "      <th>3</th>\n",
       "      <td>DecisionTreeClassifier (Random Oversample)</td>\n",
       "      <td>0.804285</td>\n",
       "      <td>0.309964</td>\n",
       "      <td>0.591053</td>\n",
       "      <td>0.280461</td>\n",
       "      <td>0.346403</td>\n",
       "    </tr>\n",
       "    <tr>\n",
       "      <th>4</th>\n",
       "      <td>XGBoostClassifier (Random Oversample)</td>\n",
       "      <td>0.715214</td>\n",
       "      <td>0.451863</td>\n",
       "      <td>0.728942</td>\n",
       "      <td>0.748938</td>\n",
       "      <td>0.323531</td>\n",
       "    </tr>\n",
       "  </tbody>\n",
       "</table>\n",
       "</div>"
      ],
      "text/plain": [
       "                                             Model  Accuracy  F1-score  \\\n",
       "0        Base LinearRegression (Random Oversample)  0.718806  0.451470   \n",
       "1             LinearRegression (Random Oversample)  0.714584  0.449089   \n",
       "2  Base DecisionTreeClassifier (Random Oversample)  0.764305  0.294065   \n",
       "3       DecisionTreeClassifier (Random Oversample)  0.804285  0.309964   \n",
       "4            XGBoostClassifier (Random Oversample)  0.715214  0.451863   \n",
       "\n",
       "        AUC    Recall  Precision  \n",
       "0  0.726749  0.738319   0.325145  \n",
       "1  0.725838  0.742231   0.321939  \n",
       "2  0.580680  0.313213   0.277124  \n",
       "3  0.591053  0.280461   0.346403  \n",
       "4  0.728942  0.748938   0.323531  "
      ]
     },
     "execution_count": 25,
     "metadata": {},
     "output_type": "execute_result"
    }
   ],
   "source": [
    "metric_df_random_oversample"
   ]
  },
  {
   "cell_type": "markdown",
   "id": "35657a15",
   "metadata": {},
   "source": [
    "XGBoostClassifier (Random Oversample) stands out as the best-performing model post-oversampling, with the highest recall (0.7489), competitive F1-score (0.4519), and the highest AUC (0.7289). This model balances recall and precision relatively well, making it the most promising candidate for further tuning or deployment.\n",
    "\n",
    "Linear Regression Models (Base and non-Base) also show strong recall and decent F1-scores, making them solid alternatives if interpretability is a priority or if further tuning can help improve their performance.\n",
    "\n",
    "DecisionTreeClassifier Models perform the weakest after oversampling. They do not show significant improvements in recall or AUC, so these models may not be ideal for this problem unless further adjustments are made (e.g., hyperparameter tuning, different resampling techniques)."
   ]
  }
 ],
 "metadata": {
  "kernelspec": {
   "display_name": "Python 3 (ipykernel)",
   "language": "python",
   "name": "python3"
  },
  "language_info": {
   "codemirror_mode": {
    "name": "ipython",
    "version": 3
   },
   "file_extension": ".py",
   "mimetype": "text/x-python",
   "name": "python",
   "nbconvert_exporter": "python",
   "pygments_lexer": "ipython3",
   "version": "3.12.2"
  },
  "toc": {
   "base_numbering": 1,
   "nav_menu": {
    "height": "255.99px",
    "width": "571.354px"
   },
   "number_sections": true,
   "sideBar": true,
   "skip_h1_title": true,
   "title_cell": "Table of Contents",
   "title_sidebar": "Contents",
   "toc_cell": true,
   "toc_position": {},
   "toc_section_display": true,
   "toc_window_display": false
  },
  "varInspector": {
   "cols": {
    "lenName": 16,
    "lenType": 16,
    "lenVar": 40
   },
   "kernels_config": {
    "python": {
     "delete_cmd_postfix": "",
     "delete_cmd_prefix": "del ",
     "library": "var_list.py",
     "varRefreshCmd": "print(var_dic_list())"
    },
    "r": {
     "delete_cmd_postfix": ") ",
     "delete_cmd_prefix": "rm(",
     "library": "var_list.r",
     "varRefreshCmd": "cat(var_dic_list()) "
    }
   },
   "types_to_exclude": [
    "module",
    "function",
    "builtin_function_or_method",
    "instance",
    "_Feature"
   ],
   "window_display": false
  }
 },
 "nbformat": 4,
 "nbformat_minor": 5
}
