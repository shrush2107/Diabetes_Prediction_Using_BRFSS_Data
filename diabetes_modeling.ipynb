{
 "cells": [
  {
   "cell_type": "markdown",
   "id": "69b26c23",
   "metadata": {},
   "source": [
    "# Predicting Diabetes Using BRFSS Data"
   ]
  },
  {
   "cell_type": "code",
   "execution_count": 1,
   "id": "aec6b702",
   "metadata": {},
   "outputs": [],
   "source": [
    "import numpy as np\n",
    "import pandas as pd\n",
    "import seaborn as sns\n",
    "import matplotlib.pyplot as plt\n",
    "import plotly.express as px\n",
    "from sklearn.model_selection import train_test_split\n",
    "from sklearn.model_selection import cross_val_score\n",
    "from sklearn.model_selection import GridSearchCV\n",
    "from sklearn.pipeline import Pipeline, make_pipeline\n",
    "from sklearn.preprocessing import StandardScaler, MinMaxScaler\n",
    "from sklearn.naive_bayes import GaussianNB, MultinomialNB\n",
    "from sklearn.linear_model import LogisticRegression\n",
    "from sklearn.svm import SVC\n",
    "from sklearn.ensemble import RandomForestClassifier\n",
    "from sklearn.tree import DecisionTreeClassifier\n",
    "import xgboost as xgb\n",
    "from sklearn.metrics import accuracy_score, f1_score, recall_score, roc_auc_score, precision_score\n",
    "from sklearn.metrics import confusion_matrix, classification_report\n",
    "from sklearn.metrics import ConfusionMatrixDisplay\n",
    "from sklearn.metrics import make_scorer"
   ]
  },
  {
   "cell_type": "code",
   "execution_count": 2,
   "id": "21bd4ff0",
   "metadata": {},
   "outputs": [],
   "source": [
    "import warnings\n",
    "warnings.filterwarnings(\"ignore\")"
   ]
  },
  {
   "cell_type": "code",
   "execution_count": 3,
   "id": "d62d01ef",
   "metadata": {},
   "outputs": [],
   "source": [
    "df = pd.read_csv('Diabetes_2022.csv')"
   ]
  },
  {
   "cell_type": "code",
   "execution_count": 4,
   "id": "139e1273",
   "metadata": {},
   "outputs": [],
   "source": [
    "y = df.Diabetes_01\n",
    "X = df.drop(['Diabetes_01'], axis=1)"
   ]
  },
  {
   "cell_type": "code",
   "execution_count": 5,
   "id": "9a337c2d",
   "metadata": {},
   "outputs": [],
   "source": [
    "X_train, X_test, y_train, y_test = train_test_split(X, y, test_size = 0.2, random_state = 42)"
   ]
  },
  {
   "cell_type": "code",
   "execution_count": 6,
   "id": "975224c7",
   "metadata": {},
   "outputs": [
    {
     "name": "stdout",
     "output_type": "stream",
     "text": [
      "X_train: (228311, 24) X_test: (57078, 24)\n",
      "y_train: (228311,) y_test: (57078,)\n"
     ]
    }
   ],
   "source": [
    "print('X_train:', X_train.shape, 'X_test:', X_test.shape)\n",
    "print('y_train:', y_train.shape, 'y_test:', y_test.shape)"
   ]
  },
  {
   "cell_type": "code",
   "execution_count": null,
   "id": "ff7ecbf0",
   "metadata": {},
   "outputs": [],
   "source": [
    "#scoring='accuracy'/scoring=\"recall\"\n",
    "'''def optimize_model(model, param_grid, cv = 5, X_train = X_train, y_train = y_train):\n",
    "    optimizer = GridSearchCV(model, param_grid = param_grid, scoring=\"accuracy\", cv = cv, n_jobs = -1, verbose = True)\n",
    "    optimizer.fit(X_train, y_train)\n",
    "    print('Best parameters found:')\n",
    "    print(optimizer.best_params_)\n",
    "    print('\\nBest score: %0.6f' % (optimizer.best_score_))\n",
    "    \n",
    "    return optimizer.best_estimator_'''"
   ]
  },
  {
   "cell_type": "code",
   "execution_count": 7,
   "id": "ccc8c8a1",
   "metadata": {},
   "outputs": [],
   "source": [
    "def optimize_model(model, param_grid, primary_metric=\"recall\", cv=5, X_train = X_train, y_train = y_train):\n",
    "    # Define the scoring metrics dictionary\n",
    "    scoring = {\n",
    "        'accuracy': make_scorer(accuracy_score),\n",
    "        'recall': make_scorer(recall_score)\n",
    "    }\n",
    "    \n",
    "    # Perform grid search with multiple scoring metrics and refit based on the primary metric\n",
    "    optimizer = GridSearchCV(estimator=model, \n",
    "                             param_grid=param_grid, \n",
    "                             scoring=scoring, \n",
    "                             refit=primary_metric, \n",
    "                             cv=cv, \n",
    "                             n_jobs=-1, \n",
    "                             verbose=True)\n",
    "    \n",
    "    optimizer.fit(X_train, y_train)\n",
    " \n",
    "    print('Best parameters found:')\n",
    "    print(optimizer.best_params_)\n",
    "    print(f'\\nBest {primary_metric} score: %0.6f' % (optimizer.best_score_))\n",
    "    \n",
    "    # Print additional metrics\n",
    "    if primary_metric == 'recall':\n",
    "        print(f\"Corresponding accuracy: {optimizer.cv_results_['mean_test_accuracy'][optimizer.best_index_]:0.6f}\")\n",
    "    else:\n",
    "        print(f\"Corresponding recall: {optimizer.cv_results_['mean_test_recall'][optimizer.best_index_]:0.6f}\")\n",
    "    \n",
    "    return optimizer.best_estimator_\n"
   ]
  },
  {
   "cell_type": "code",
   "execution_count": 8,
   "id": "254ed4c0",
   "metadata": {},
   "outputs": [],
   "source": [
    "def evaluate_model(model, X_test = X_test, y_test = y_test):\n",
    "    y_pred = model.predict(X_test)\n",
    "    print('\\nClassification report: ')\n",
    "    print(classification_report(y_test, y_pred))"
   ]
  },
  {
   "cell_type": "markdown",
   "id": "78ec7d82",
   "metadata": {},
   "source": [
    "#### GaussianNB"
   ]
  },
  {
   "cell_type": "code",
   "execution_count": 9,
   "id": "ee13e1d2",
   "metadata": {},
   "outputs": [
    {
     "name": "stdout",
     "output_type": "stream",
     "text": [
      "Best score: 0.773188\n",
      "\n",
      "Classification report: \n",
      "              precision    recall  f1-score   support\n",
      "\n",
      "           0       0.90      0.83      0.86     48132\n",
      "           1       0.34      0.48      0.40      8946\n",
      "\n",
      "    accuracy                           0.77     57078\n",
      "   macro avg       0.62      0.66      0.63     57078\n",
      "weighted avg       0.81      0.77      0.79     57078\n",
      "\n"
     ]
    }
   ],
   "source": [
    "gaussianNB_model = GaussianNB()\n",
    "gaussianNB_model.fit(X_train, y_train)\n",
    "print('Best score:', np.round(accuracy_score(y_test, gaussianNB_model.predict(X_test)), 6))\n",
    "evaluate_model(gaussianNB_model)"
   ]
  },
  {
   "cell_type": "code",
   "execution_count": 10,
   "id": "216680fa",
   "metadata": {},
   "outputs": [
    {
     "name": "stdout",
     "output_type": "stream",
     "text": [
      "Cross validation - GaussianNB: 0.774876\n"
     ]
    }
   ],
   "source": [
    "print('Cross validation - GaussianNB:', np.round(cross_val_score(GaussianNB(), X, y, cv = 5).mean(), 6))"
   ]
  },
  {
   "cell_type": "markdown",
   "id": "31d9c72d",
   "metadata": {},
   "source": [
    "#### MultinomialNB"
   ]
  },
  {
   "cell_type": "code",
   "execution_count": 11,
   "id": "59dfa2fc",
   "metadata": {},
   "outputs": [
    {
     "name": "stdout",
     "output_type": "stream",
     "text": [
      "Best score: 0.781702\n",
      "\n",
      "Classification report: \n",
      "              precision    recall  f1-score   support\n",
      "\n",
      "           0       0.87      0.87      0.87     48132\n",
      "           1       0.31      0.32      0.32      8946\n",
      "\n",
      "    accuracy                           0.78     57078\n",
      "   macro avg       0.59      0.59      0.59     57078\n",
      "weighted avg       0.78      0.78      0.78     57078\n",
      "\n"
     ]
    }
   ],
   "source": [
    "multinomialNB_model = MultinomialNB()\n",
    "multinomialNB_model.fit(X_train, y_train)\n",
    "print('Best score:', np.round(accuracy_score(y_test, multinomialNB_model.predict(X_test)), 6))\n",
    "evaluate_model(multinomialNB_model)"
   ]
  },
  {
   "cell_type": "code",
   "execution_count": 12,
   "id": "e8cfca30",
   "metadata": {},
   "outputs": [
    {
     "name": "stdout",
     "output_type": "stream",
     "text": [
      "Cross validation - MultinomialNB: 0.780832\n"
     ]
    }
   ],
   "source": [
    "print('Cross validation - MultinomialNB:', np.round(cross_val_score(MultinomialNB(), X, y, cv = 5).mean(), 6))"
   ]
  },
  {
   "cell_type": "markdown",
   "id": "a5aabcc2",
   "metadata": {},
   "source": [
    "GaussianNB and MultinomialNB gave very similar results. Cross-validation of very basic layering models yielded accuracy scores of around 0.77.\\\n",
    "We can see that both models detect healthy individuals more accurately than those who are pre-diabetic or diagnosed with diabetes."
   ]
  },
  {
   "cell_type": "markdown",
   "id": "4598ada3",
   "metadata": {},
   "source": [
    "### Logistic Regression"
   ]
  },
  {
   "cell_type": "code",
   "execution_count": 13,
   "id": "61832a6d",
   "metadata": {},
   "outputs": [
    {
     "name": "stdout",
     "output_type": "stream",
     "text": [
      "Best score: 0.847752\n",
      "\n",
      "Classification report: \n",
      "              precision    recall  f1-score   support\n",
      "\n",
      "           0       0.86      0.97      0.92     48132\n",
      "           1       0.54      0.17      0.26      8946\n",
      "\n",
      "    accuracy                           0.85     57078\n",
      "   macro avg       0.70      0.57      0.59     57078\n",
      "weighted avg       0.81      0.85      0.81     57078\n",
      "\n"
     ]
    }
   ],
   "source": [
    "lr_baseline = LogisticRegression(random_state = 0)\n",
    "lr_baseline.fit(X_train, y_train)\n",
    "print('Best score:', np.round(accuracy_score(y_test, lr_baseline.predict(X_test)), 6))\n",
    "evaluate_model(lr_baseline)"
   ]
  },
  {
   "cell_type": "code",
   "execution_count": 14,
   "id": "007dd650",
   "metadata": {},
   "outputs": [
    {
     "name": "stdout",
     "output_type": "stream",
     "text": [
      "Best Parameters: {'C': 100, 'max_iter': 200, 'penalty': 'l2', 'solver': 'lbfgs'}\n",
      "Best Recall Score (used for refit): 0.16524304854855773\n",
      "Best Accuracy Score: 0.846967512659058\n"
     ]
    }
   ],
   "source": [
    "param_grid = {\n",
    "    'penalty': ['l1', 'l2', 'elasticnet'],\n",
    "    'C': [0.001, 0.01, 0.1, 1, 10,100],\n",
    "    'solver': ['lbfgs', 'saga'],\n",
    "    'max_iter': [100, 200]\n",
    "}\n",
    "scoring = {\n",
    "    'accuracy': make_scorer(accuracy_score),\n",
    "    'recall': make_scorer(recall_score)\n",
    "}\n",
    "grid_search = GridSearchCV(estimator=lr_baseline, param_grid=param_grid, scoring=scoring,  refit='recall', cv=5)\n",
    "grid_search.fit(X_train, y_train)\n",
    "best_model = grid_search.best_estimator_\n",
    "best_params = grid_search.best_params_\n",
    "print(\"Best Parameters:\", best_params)\n",
    "best_recall_score = grid_search.best_score_\n",
    "print(\"Best Recall Score (used for refit):\", best_recall_score)\n",
    "best_index = grid_search.best_index_  \n",
    "best_accuracy_score = grid_search.cv_results_['mean_test_accuracy'][best_index]\n",
    "print(\"Best Accuracy Score:\", best_accuracy_score)"
   ]
  },
  {
   "cell_type": "code",
   "execution_count": 15,
   "id": "68d5f204",
   "metadata": {},
   "outputs": [],
   "source": [
    "lr_model = grid_search.best_estimator_ "
   ]
  },
  {
   "cell_type": "code",
   "execution_count": 16,
   "id": "77b34ae6",
   "metadata": {},
   "outputs": [
    {
     "data": {
      "text/plain": [
       "<Figure size 200x100 with 0 Axes>"
      ]
     },
     "metadata": {},
     "output_type": "display_data"
    },
    {
     "data": {
      "image/png": "[encoded data removed]",
      "text/plain": [
       "<Figure size 640x480 with 2 Axes>"
      ]
     },
     "metadata": {},
     "output_type": "display_data"
    }
   ],
   "source": [
    "y_pred = lr_model.predict(X_test)\n",
    "cm = confusion_matrix(y_test, y_pred)\n",
    "plt.figure(figsize=(2, 1))\n",
    "disp = ConfusionMatrixDisplay(confusion_matrix=cm)\n",
    "disp.plot(cmap=plt.cm.Reds)\n",
    "plt.show()\n"
   ]
  },
  {
   "cell_type": "markdown",
   "id": "0f483a1a",
   "metadata": {},
   "source": [
    "### SVM"
   ]
  },
  {
   "cell_type": "code",
   "execution_count": null,
   "id": "7c19e67f",
   "metadata": {},
   "outputs": [],
   "source": [
    "svm_model = Pipeline([(\"scaler\", StandardScaler()), (\"model\", SVC(kernel='rbf'))])\n",
    "\n",
    "svm_param_grid = {'model__C' : 10**np.arange(-3,4, dtype = float),\n",
    "                  'model__class_weight' : ['balanced', None]}"
   ]
  },
  {
   "cell_type": "code",
   "execution_count": null,
   "id": "7a984303",
   "metadata": {},
   "outputs": [],
   "source": [
    "svm_baseline = SVC(random_state = 0)\n",
    "svm_baseline.fit(X_train, y_train)\n",
    "print('Best score:', np.round(accuracy_score(y_test, svm_baseline.predict(X_test)), 6))\n",
    "evaluate_model(svm_baseline)"
   ]
  },
  {
   "cell_type": "code",
   "execution_count": null,
   "id": "355d8c05",
   "metadata": {},
   "outputs": [],
   "source": [
    "y_pred = svm_baseline.predict(X_test)\n",
    "cm = confusion_matrix(y_test, y_pred)\n",
    "plt.figure(figsize=(2, 1))\n",
    "disp = ConfusionMatrixDisplay(confusion_matrix=cm)\n",
    "disp.plot(cmap=plt.cm.Reds)\n",
    "plt.show()\n"
   ]
  },
  {
   "cell_type": "markdown",
   "id": "6e86f2fd",
   "metadata": {},
   "source": [
    "The dataset for the SVM classifier is too large."
   ]
  },
  {
   "cell_type": "markdown",
   "id": "9fc82ae0",
   "metadata": {},
   "source": [
    "### Decision Tree Classifier"
   ]
  },
  {
   "cell_type": "code",
   "execution_count": 17,
   "id": "2ec97330",
   "metadata": {},
   "outputs": [],
   "source": [
    "tree_model = Pipeline([(\"scaler\", StandardScaler()), (\"model\", DecisionTreeClassifier())])\n",
    "\n",
    "tree_param_grid = {'model__criterion': ['gini', 'entropy'],\n",
    "                   'model__max_depth': [2, 5, 10, 20, 30],\n",
    "                   'model__min_samples_leaf': [5, 10, 20, 30]}"
   ]
  },
  {
   "cell_type": "code",
   "execution_count": 18,
   "id": "c2d60a44",
   "metadata": {},
   "outputs": [
    {
     "name": "stdout",
     "output_type": "stream",
     "text": [
      "Best score: 0.778846\n",
      "\n",
      "Classification report: \n",
      "              precision    recall  f1-score   support\n",
      "\n",
      "           0       0.87      0.86      0.87     48132\n",
      "           1       0.31      0.32      0.31      8946\n",
      "\n",
      "    accuracy                           0.78     57078\n",
      "   macro avg       0.59      0.59      0.59     57078\n",
      "weighted avg       0.78      0.78      0.78     57078\n",
      "\n"
     ]
    }
   ],
   "source": [
    "tree_baseline = DecisionTreeClassifier(random_state = 0)\n",
    "tree_baseline.fit(X_train, y_train)\n",
    "print('Best score:', np.round(accuracy_score(y_test, tree_baseline.predict(X_test)), 6))\n",
    "evaluate_model(tree_baseline)"
   ]
  },
  {
   "cell_type": "code",
   "execution_count": 19,
   "id": "f77b8941",
   "metadata": {},
   "outputs": [
    {
     "name": "stdout",
     "output_type": "stream",
     "text": [
      "Fitting 5 folds for each of 40 candidates, totalling 200 fits\n",
      "Best parameters found:\n",
      "{'model__criterion': 'entropy', 'model__max_depth': 30, 'model__min_samples_leaf': 5}\n",
      "\n",
      "Best recall score: 0.256615\n",
      "Corresponding accuracy: 0.815199\n",
      "\n",
      "Classification report: \n",
      "              precision    recall  f1-score   support\n",
      "\n",
      "           0       0.87      0.92      0.89     48132\n",
      "           1       0.38      0.26      0.31      8946\n",
      "\n",
      "    accuracy                           0.82     57078\n",
      "   macro avg       0.62      0.59      0.60     57078\n",
      "weighted avg       0.79      0.82      0.80     57078\n",
      "\n"
     ]
    }
   ],
   "source": [
    "tree_model = optimize_model(tree_model, tree_param_grid)\n",
    "evaluate_model(tree_model)"
   ]
  },
  {
   "cell_type": "code",
   "execution_count": 20,
   "id": "e6755ffd",
   "metadata": {},
   "outputs": [
    {
     "name": "stdout",
     "output_type": "stream",
     "text": [
      "Fitting 5 folds for each of 30 candidates, totalling 150 fits\n",
      "Best parameters found:\n",
      "{'model__max_depth': 40, 'model__min_samples_leaf': 3}\n",
      "\n",
      "Best recall score: 0.280627\n",
      "Corresponding accuracy: 0.803601\n",
      "\n",
      "Classification report: \n",
      "              precision    recall  f1-score   support\n",
      "\n",
      "           0       0.87      0.90      0.89     48132\n",
      "           1       0.35      0.28      0.31      8946\n",
      "\n",
      "    accuracy                           0.81     57078\n",
      "   macro avg       0.61      0.59      0.60     57078\n",
      "weighted avg       0.79      0.81      0.80     57078\n",
      "\n"
     ]
    }
   ],
   "source": [
    "tree_model = Pipeline([(\"scaler\", StandardScaler()), (\"model\", DecisionTreeClassifier(criterion = 'entropy'))])\n",
    "tree_param_grid = {'model__min_samples_leaf': [2,3,4,5,6,7],\n",
    "                   'model__max_depth': [30,35,40,45,50]}\n",
    "tree_model = optimize_model(tree_model, tree_param_grid)\n",
    "evaluate_model(tree_model)"
   ]
  },
  {
   "cell_type": "code",
   "execution_count": 21,
   "id": "e5a177db",
   "metadata": {},
   "outputs": [
    {
     "data": {
      "text/plain": [
       "<Figure size 200x100 with 0 Axes>"
      ]
     },
     "metadata": {},
     "output_type": "display_data"
    },
    {
     "data": {
      "image/png": "[encoded data removed]",
      "text/plain": [
       "<Figure size 640x480 with 2 Axes>"
      ]
     },
     "metadata": {},
     "output_type": "display_data"
    }
   ],
   "source": [
    "y_pred = tree_model.predict(X_test)\n",
    "cm = confusion_matrix(y_test, y_pred)\n",
    "plt.figure(figsize=(2, 1))\n",
    "disp = ConfusionMatrixDisplay(confusion_matrix=cm)\n",
    "disp.plot(cmap=plt.cm.Reds)\n",
    "plt.show()"
   ]
  },
  {
   "cell_type": "markdown",
   "id": "ebc179b8",
   "metadata": {},
   "source": [
    "### Random Forest Classifier"
   ]
  },
  {
   "cell_type": "code",
   "execution_count": 22,
   "id": "21f4426e",
   "metadata": {},
   "outputs": [
    {
     "name": "stdout",
     "output_type": "stream",
     "text": [
      "Best score: 0.840026\n",
      "\n",
      "Classification report: \n",
      "              precision    recall  f1-score   support\n",
      "\n",
      "           0       0.86      0.96      0.91     48132\n",
      "           1       0.47      0.19      0.27      8946\n",
      "\n",
      "    accuracy                           0.84     57078\n",
      "   macro avg       0.67      0.57      0.59     57078\n",
      "weighted avg       0.80      0.84      0.81     57078\n",
      "\n"
     ]
    }
   ],
   "source": [
    "forest_classifier= RandomForestClassifier(random_state = 0)\n",
    "forest_classifier.fit(X_train, y_train)\n",
    "print('Best score:', np.round(accuracy_score(y_test, forest_classifier.predict(X_test)), 6))\n",
    "evaluate_model(forest_classifier)"
   ]
  },
  {
   "cell_type": "code",
   "execution_count": 23,
   "id": "549564ee",
   "metadata": {},
   "outputs": [
    {
     "data": {
      "text/plain": [
       "<Figure size 200x100 with 0 Axes>"
      ]
     },
     "metadata": {},
     "output_type": "display_data"
    },
    {
     "data": {
      "image/png": "[encoded data removed]",
      "text/plain": [
       "<Figure size 640x480 with 2 Axes>"
      ]
     },
     "metadata": {},
     "output_type": "display_data"
    }
   ],
   "source": [
    "y_pred = forest_classifier.predict(X_test)\n",
    "cm = confusion_matrix(y_test, y_pred)\n",
    "plt.figure(figsize=(2, 1))\n",
    "disp = ConfusionMatrixDisplay(confusion_matrix=cm)\n",
    "disp.plot(cmap=plt.cm.Reds)\n",
    "plt.show()"
   ]
  },
  {
   "cell_type": "markdown",
   "id": "00ac7dfb",
   "metadata": {},
   "source": [
    "#### _OPTIONAL_"
   ]
  },
  {
   "cell_type": "code",
   "execution_count": null,
   "id": "901eaee3",
   "metadata": {},
   "outputs": [],
   "source": [
    "forest_model = Pipeline([(\"scaler\", StandardScaler()), (\"model\", RandomForestClassifier())])\n",
    "\n",
    "forest_param_grid = {'model__n_estimators': [200, 500, 1000],\n",
    "                     'model__max_depth' : [5, 15, 50],\n",
    "                     'model__min_samples_leaf': [5, 10, 20],\n",
    "                     'model__criterion': ['gini', 'entropy']}"
   ]
  },
  {
   "cell_type": "code",
   "execution_count": null,
   "id": "18543dbf",
   "metadata": {},
   "outputs": [],
   "source": [
    "forest_model = optimize_model(forest_model, forest_param_grid)\n",
    "evaluate_model(forest_model)"
   ]
  },
  {
   "cell_type": "code",
   "execution_count": null,
   "id": "7df162eb",
   "metadata": {},
   "outputs": [],
   "source": [
    "forest_model = Pipeline([(\"scaler\", StandardScaler()), (\"model\", RandomForestClassifier(min_samples_leaf = 10,\n",
    "                                                                                        criterion = 'entropy'))])\n",
    "forest_param_grid = {'model__n_estimators': [400, 500, 700],\n",
    "                     'model__max_depth' : [35, 50, 100]}\n",
    "forest_model = optimize_model(forest_model, forest_param_grid)\n",
    "evaluate_model(forest_model)\n",
    "\n",
    "#narrow the area and choose the best parameters"
   ]
  },
  {
   "cell_type": "markdown",
   "id": "64ffb0ff",
   "metadata": {},
   "source": [
    "### XGBoost Classifier"
   ]
  },
  {
   "cell_type": "code",
   "execution_count": 24,
   "id": "60e028f2",
   "metadata": {},
   "outputs": [
    {
     "name": "stdout",
     "output_type": "stream",
     "text": [
      "Best score: 0.849732\n",
      "\n",
      "Classification report: \n",
      "              precision    recall  f1-score   support\n",
      "\n",
      "           0       0.86      0.97      0.92     48132\n",
      "           1       0.56      0.18      0.27      8946\n",
      "\n",
      "    accuracy                           0.85     57078\n",
      "   macro avg       0.71      0.58      0.60     57078\n",
      "weighted avg       0.82      0.85      0.82     57078\n",
      "\n"
     ]
    }
   ],
   "source": [
    "xgb_classifier = xgb.XGBClassifier(eval_metric='error', random_state = 0)\n",
    "xgb_classifier.fit(X_train, y_train)\n",
    "print('Best score:', np.round(accuracy_score(y_test, xgb_classifier.predict(X_test)), 6))\n",
    "evaluate_model(xgb_classifier)"
   ]
  },
  {
   "cell_type": "code",
   "execution_count": 25,
   "id": "25696725",
   "metadata": {},
   "outputs": [
    {
     "data": {
      "text/plain": [
       "<Figure size 200x100 with 0 Axes>"
      ]
     },
     "metadata": {},
     "output_type": "display_data"
    },
    {
     "data": {
      "image/png": "[encoded data removed]",
      "text/plain": [
       "<Figure size 640x480 with 2 Axes>"
      ]
     },
     "metadata": {},
     "output_type": "display_data"
    }
   ],
   "source": [
    "y_pred = xgb_classifier.predict(X_test)\n",
    "cm = confusion_matrix(y_test, y_pred)\n",
    "plt.figure(figsize=(2, 1))\n",
    "disp = ConfusionMatrixDisplay(confusion_matrix=cm)\n",
    "disp.plot(cmap=plt.cm.Reds)\n",
    "plt.show()"
   ]
  },
  {
   "cell_type": "markdown",
   "id": "5d4cf5c5",
   "metadata": {},
   "source": [
    "#### _OPTIONAL_"
   ]
  },
  {
   "cell_type": "code",
   "execution_count": null,
   "id": "43df3611",
   "metadata": {},
   "outputs": [],
   "source": [
    "xgb_model = Pipeline([(\"scaler\", StandardScaler()), (\"model\", xgb.XGBClassifier(eval_metric='error'))])\n",
    "\n",
    "xgb_param_grid  = {'model__n_estimators': [200, 400, 800],\n",
    "                   'model__max_depth': [5, 10, 20],\n",
    "                   'model__learning_rate': [0.05, 0.1, 0.20],\n",
    "                   'model__min_child_weight': [1, 10, 100]}"
   ]
  },
  {
   "cell_type": "code",
   "execution_count": null,
   "id": "50d8f142",
   "metadata": {},
   "outputs": [],
   "source": [
    "xgb_model = optimize_model(xgb_model, xgb_param_grid)\n",
    "evaluate_model(xgb_model)"
   ]
  },
  {
   "cell_type": "code",
   "execution_count": null,
   "id": "5f4f0322",
   "metadata": {},
   "outputs": [],
   "source": [
    "xgb_model = Pipeline([(\"scaler\", StandardScaler()), (\"model\", xgb.XGBClassifier(eval_metric='error'))])\n",
    "xgb_param_grid  = {'model__n_estimators': [800, 1000],\n",
    "                   'model__max_depth': [1, 3, 5],\n",
    "                   'model__learning_rate': [0.001, 0.01, 0.05],\n",
    "                   'model__min_child_weight': [100, 200]}\n",
    "xgb_model = optimize_model(xgb_model, xgb_param_grid)\n",
    "evaluate_model(xgb_model)\n",
    "\n",
    "#narrow the area for the best parameters"
   ]
  },
  {
   "cell_type": "markdown",
   "id": "d6382c11",
   "metadata": {},
   "source": [
    "## Metrics"
   ]
  },
  {
   "cell_type": "code",
   "execution_count": 26,
   "id": "856fc48c",
   "metadata": {},
   "outputs": [],
   "source": [
    "from sklearn import metrics\n",
    "model_name = []\n",
    "accuracy_score = []\n",
    "f1_score = []\n",
    "roc_auc_score = []\n",
    "recall_score = []\n",
    "precision_score = []\n",
    "    \n",
    "def metrics_models(name, model, X_test = X_test, y_test = y_test):\n",
    "    models = list()\n",
    "    models.append((name, model))\n",
    "    \n",
    "    for name, model in models:\n",
    "        model_name.append(name)\n",
    "        accuracy_score.append(metrics.accuracy_score(y_test, model.predict(X_test)))\n",
    "        f1_score.append(metrics.f1_score(y_test, model.predict(X_test)))\n",
    "        roc_auc_score.append(metrics.roc_auc_score(y_test, model.predict(X_test)))\n",
    "        recall_score.append(metrics.recall_score(y_test, model.predict(X_test)))\n",
    "        precision_score.append(metrics.precision_score(y_test, model.predict(X_test)))\n"
   ]
  },
  {
   "cell_type": "code",
   "execution_count": 27,
   "id": "5ce86009",
   "metadata": {},
   "outputs": [],
   "source": [
    "metrics_models('Base GaussianNB', gaussianNB_model)\n",
    "metrics_models('Base MultinomialNB', multinomialNB_model)\n",
    "metrics_models('Base LinearRegression', lr_baseline)\n",
    "metrics_models('LinearRegression', lr_model)\n",
    "metrics_models('Base DecisionTreeClassifier', tree_baseline)\n",
    "metrics_models('DecisionTreeClassifier', tree_model)\n",
    "metrics_models('RandomForestClassifier', forest_classifier)\n",
    "metrics_models('XGBoostClassifier', xgb_classifier)"
   ]
  },
  {
   "cell_type": "code",
   "execution_count": 28,
   "id": "a8b94cdc",
   "metadata": {},
   "outputs": [],
   "source": [
    "metric_df = pd.DataFrame({'Model': model_name,\n",
    "                           'Accuracy': accuracy_score,\n",
    "                           'F1-score': f1_score,\n",
    "                           'AUC': roc_auc_score,\n",
    "                           'Recall': recall_score,\n",
    "                           'Precision': precision_score})"
   ]
  },
  {
   "cell_type": "code",
   "execution_count": 29,
   "id": "797ee29b",
   "metadata": {},
   "outputs": [
    {
     "data": {
      "text/html": [
       "<div>\n",
       "<style scoped>\n",
       "    .dataframe tbody tr th:only-of-type {\n",
       "        vertical-align: middle;\n",
       "    }\n",
       "\n",
       "    .dataframe tbody tr th {\n",
       "        vertical-align: top;\n",
       "    }\n",
       "\n",
       "    .dataframe thead th {\n",
       "        text-align: right;\n",
       "    }\n",
       "</style>\n",
       "<table border=\"1\" class=\"dataframe\">\n",
       "  <thead>\n",
       "    <tr style=\"text-align: right;\">\n",
       "      <th></th>\n",
       "      <th>Model</th>\n",
       "      <th>Accuracy</th>\n",
       "      <th>F1-score</th>\n",
       "      <th>AUC</th>\n",
       "      <th>Recall</th>\n",
       "      <th>Precision</th>\n",
       "    </tr>\n",
       "  </thead>\n",
       "  <tbody>\n",
       "    <tr>\n",
       "      <th>0</th>\n",
       "      <td>Base GaussianNB</td>\n",
       "      <td>0.773188</td>\n",
       "      <td>0.401258</td>\n",
       "      <td>0.655839</td>\n",
       "      <td>0.484909</td>\n",
       "      <td>0.342222</td>\n",
       "    </tr>\n",
       "    <tr>\n",
       "      <th>1</th>\n",
       "      <td>Base MultinomialNB</td>\n",
       "      <td>0.781702</td>\n",
       "      <td>0.316211</td>\n",
       "      <td>0.594590</td>\n",
       "      <td>0.322043</td>\n",
       "      <td>0.310586</td>\n",
       "    </tr>\n",
       "    <tr>\n",
       "      <th>2</th>\n",
       "      <td>Base LinearRegression</td>\n",
       "      <td>0.847752</td>\n",
       "      <td>0.264058</td>\n",
       "      <td>0.573598</td>\n",
       "      <td>0.174268</td>\n",
       "      <td>0.544724</td>\n",
       "    </tr>\n",
       "    <tr>\n",
       "      <th>3</th>\n",
       "      <td>LinearRegression</td>\n",
       "      <td>0.848418</td>\n",
       "      <td>0.265285</td>\n",
       "      <td>0.574129</td>\n",
       "      <td>0.174603</td>\n",
       "      <td>0.551943</td>\n",
       "    </tr>\n",
       "    <tr>\n",
       "      <th>4</th>\n",
       "      <td>Base DecisionTreeClassifier</td>\n",
       "      <td>0.778846</td>\n",
       "      <td>0.314303</td>\n",
       "      <td>0.593443</td>\n",
       "      <td>0.323385</td>\n",
       "      <td>0.305717</td>\n",
       "    </tr>\n",
       "    <tr>\n",
       "      <th>5</th>\n",
       "      <td>DecisionTreeClassifier</td>\n",
       "      <td>0.805214</td>\n",
       "      <td>0.311238</td>\n",
       "      <td>0.591740</td>\n",
       "      <td>0.280796</td>\n",
       "      <td>0.349083</td>\n",
       "    </tr>\n",
       "    <tr>\n",
       "      <th>6</th>\n",
       "      <td>RandomForestClassifier</td>\n",
       "      <td>0.840026</td>\n",
       "      <td>0.269812</td>\n",
       "      <td>0.574841</td>\n",
       "      <td>0.188576</td>\n",
       "      <td>0.474010</td>\n",
       "    </tr>\n",
       "    <tr>\n",
       "      <th>7</th>\n",
       "      <td>XGBoostClassifier</td>\n",
       "      <td>0.849732</td>\n",
       "      <td>0.273813</td>\n",
       "      <td>0.577411</td>\n",
       "      <td>0.180751</td>\n",
       "      <td>0.564398</td>\n",
       "    </tr>\n",
       "  </tbody>\n",
       "</table>\n",
       "</div>"
      ],
      "text/plain": [
       "                         Model  Accuracy  F1-score       AUC    Recall  \\\n",
       "0              Base GaussianNB  0.773188  0.401258  0.655839  0.484909   \n",
       "1           Base MultinomialNB  0.781702  0.316211  0.594590  0.322043   \n",
       "2        Base LinearRegression  0.847752  0.264058  0.573598  0.174268   \n",
       "3             LinearRegression  0.848418  0.265285  0.574129  0.174603   \n",
       "4  Base DecisionTreeClassifier  0.778846  0.314303  0.593443  0.323385   \n",
       "5       DecisionTreeClassifier  0.805214  0.311238  0.591740  0.280796   \n",
       "6       RandomForestClassifier  0.840026  0.269812  0.574841  0.188576   \n",
       "7            XGBoostClassifier  0.849732  0.273813  0.577411  0.180751   \n",
       "\n",
       "   Precision  \n",
       "0   0.342222  \n",
       "1   0.310586  \n",
       "2   0.544724  \n",
       "3   0.551943  \n",
       "4   0.305717  \n",
       "5   0.349083  \n",
       "6   0.474010  \n",
       "7   0.564398  "
      ]
     },
     "execution_count": 29,
     "metadata": {},
     "output_type": "execute_result"
    }
   ],
   "source": [
    "metric_df"
   ]
  },
  {
   "cell_type": "markdown",
   "id": "d0ae665d",
   "metadata": {},
   "source": [
    "Accuracy:\n",
    "Accuracy is relatively high for models like Base LinearRegression (0.8478), LinearRegression (0.8484), RandomForestClassifier (0.8400), and XGBoostClassifier (0.8497). However, accuracy can be misleading with imbalanced data, as it may not properly reflect the model's ability to detect the minority class (diabetes positive cases).\n",
    "\n",
    "F1-Score:\n",
    "F1-scores are generally low across all models, with the highest being Base GaussianNB at 0.4013. This indicates that most models are struggling to balance precision and recall, which is critical for imbalanced data.\n",
    "\n",
    "AUC (Area Under the Curve):\n",
    "The AUC scores are also relatively low for all models, with the highest being 0.6558 for Base GaussianNB. This suggests that the models have limited ability to distinguish between positive and negative cases, which is crucial in a classification problem like predicting diabetes.\n",
    "\n",
    "Recall:\n",
    "Since recall is a key metric in predicting diabetes (as false negatives are particularly costly), it is concerning that all models have low recall, with the highest being Base GaussianNB at 0.4849. This implies that the models are not effectively identifying the positive cases (diabetes).\n",
    "\n",
    "Precision:\n",
    "Precision varies across models, with XGBoostClassifier showing the highest precision (0.5644). However, this comes at the cost of recall, as seen in the relatively low recall value (0.1808)."
   ]
  },
  {
   "cell_type": "markdown",
   "id": "d35049fb",
   "metadata": {},
   "source": [
    "The accuracy for the Logistic Regression model and XGBoost Classifier are the best. I will also be focusing on the Recall value(False Negative) as it is important for this problem statement so i choose the Decision Tree Classifier as well."
   ]
  }
 ],
 "metadata": {
  "kernelspec": {
   "display_name": "Python 3 (ipykernel)",
   "language": "python",
   "name": "python3"
  },
  "language_info": {
   "codemirror_mode": {
    "name": "ipython",
    "version": 3
   },
   "file_extension": ".py",
   "mimetype": "text/x-python",
   "name": "python",
   "nbconvert_exporter": "python",
   "pygments_lexer": "ipython3",
   "version": "3.12.2"
  },
  "toc": {
   "base_numbering": 1,
   "nav_menu": {
    "height": "255.99px",
    "width": "571.354px"
   },
   "number_sections": true,
   "sideBar": true,
   "skip_h1_title": true,
   "title_cell": "Table of Contents",
   "title_sidebar": "Contents",
   "toc_cell": true,
   "toc_position": {},
   "toc_section_display": true,
   "toc_window_display": false
  },
  "varInspector": {
   "cols": {
    "lenName": 16,
    "lenType": 16,
    "lenVar": 40
   },
   "kernels_config": {
    "python": {
     "delete_cmd_postfix": "",
     "delete_cmd_prefix": "del ",
     "library": "var_list.py",
     "varRefreshCmd": "print(var_dic_list())"
    },
    "r": {
     "delete_cmd_postfix": ") ",
     "delete_cmd_prefix": "rm(",
     "library": "var_list.r",
     "varRefreshCmd": "cat(var_dic_list()) "
    }
   },
   "types_to_exclude": [
    "module",
    "function",
    "builtin_function_or_method",
    "instance",
    "_Feature"
   ],
   "window_display": false
  }
 },
 "nbformat": 4,
 "nbformat_minor": 5
}
