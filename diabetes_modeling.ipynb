{
 "cells": [
  {
   "cell_type": "markdown",
   "id": "69b26c23",
   "metadata": {},
   "source": [
    "# Predicting Diabetes Using BRFSS Data"
   ]
  },
  {
   "cell_type": "code",
   "execution_count": 1,
   "id": "aec6b702",
   "metadata": {},
   "outputs": [],
   "source": [
    "import numpy as np\n",
    "import pandas as pd\n",
    "import seaborn as sns\n",
    "import matplotlib.pyplot as plt\n",
    "import plotly.express as px\n",
    "from sklearn.model_selection import train_test_split\n",
    "from sklearn.model_selection import cross_val_score\n",
    "from sklearn.model_selection import GridSearchCV\n",
    "from sklearn.pipeline import Pipeline, make_pipeline\n",
    "from sklearn.preprocessing import StandardScaler, MinMaxScaler\n",
    "from sklearn.naive_bayes import GaussianNB, MultinomialNB\n",
    "from sklearn.linear_model import LogisticRegression\n",
    "from sklearn.svm import SVC\n",
    "from sklearn.ensemble import RandomForestClassifier\n",
    "from sklearn.tree import DecisionTreeClassifier\n",
    "import xgboost as xgb\n",
    "from sklearn.metrics import accuracy_score, f1_score, recall_score, roc_auc_score, precision_score\n",
    "from sklearn.metrics import confusion_matrix, classification_report\n",
    "from sklearn.metrics import ConfusionMatrixDisplay"
   ]
  },
  {
   "cell_type": "code",
   "execution_count": 2,
   "id": "21bd4ff0",
   "metadata": {},
   "outputs": [],
   "source": [
    "import warnings\n",
    "warnings.filterwarnings(\"ignore\")"
   ]
  },
  {
   "cell_type": "code",
   "execution_count": 3,
   "id": "d62d01ef",
   "metadata": {},
   "outputs": [],
   "source": [
    "df = pd.read_csv('Diabetes_2022.csv')"
   ]
  },
  {
   "cell_type": "code",
   "execution_count": 4,
   "id": "139e1273",
   "metadata": {},
   "outputs": [],
   "source": [
    "y = df.Diabetes_01\n",
    "X = df.drop(['Diabetes_01'], axis=1)"
   ]
  },
  {
   "cell_type": "code",
   "execution_count": 5,
   "id": "9a337c2d",
   "metadata": {},
   "outputs": [],
   "source": [
    "X_train, X_test, y_train, y_test = train_test_split(X, y, test_size = 0.2, random_state = 0)"
   ]
  },
  {
   "cell_type": "code",
   "execution_count": 6,
   "id": "975224c7",
   "metadata": {},
   "outputs": [
    {
     "name": "stdout",
     "output_type": "stream",
     "text": [
      "X_train: (228311, 24) X_test: (57078, 24)\n",
      "y_train: (228311,) y_test: (57078,)\n"
     ]
    }
   ],
   "source": [
    "print('X_train:', X_train.shape, 'X_test:', X_test.shape)\n",
    "print('y_train:', y_train.shape, 'y_test:', y_test.shape)"
   ]
  },
  {
   "cell_type": "code",
   "execution_count": 7,
   "id": "ff7ecbf0",
   "metadata": {},
   "outputs": [],
   "source": [
    "def optimize_model(model, param_grid, cv = 5, X_train = X_train, y_train = y_train):\n",
    "    optimizer = GridSearchCV(model, param_grid = param_grid, scoring=\"accuracy\", cv = cv, n_jobs = -1, verbose = True)\n",
    "    optimizer.fit(X_train, y_train)\n",
    "    print('Best parameters found:')\n",
    "    print(optimizer.best_params_)\n",
    "    print('\\nBest score: %0.6f' % (optimizer.best_score_))\n",
    "    \n",
    "    return optimizer.best_estimator_"
   ]
  },
  {
   "cell_type": "code",
   "execution_count": 8,
   "id": "254ed4c0",
   "metadata": {},
   "outputs": [],
   "source": [
    "def evaluate_model(model, X_test = X_test, y_test = y_test):\n",
    "    y_pred = model.predict(X_test)\n",
    "    print('\\nClassification report: ')\n",
    "    print(classification_report(y_test, y_pred))"
   ]
  },
  {
   "cell_type": "markdown",
   "id": "78ec7d82",
   "metadata": {},
   "source": [
    "#### GaussianNB"
   ]
  },
  {
   "cell_type": "code",
   "execution_count": 9,
   "id": "ee13e1d2",
   "metadata": {},
   "outputs": [
    {
     "name": "stdout",
     "output_type": "stream",
     "text": [
      "Best score: 0.774729\n",
      "\n",
      "Classification report: \n",
      "              precision    recall  f1-score   support\n",
      "\n",
      "           0       0.90      0.83      0.86     48163\n",
      "           1       0.34      0.48      0.40      8915\n",
      "\n",
      "    accuracy                           0.77     57078\n",
      "   macro avg       0.62      0.66      0.63     57078\n",
      "weighted avg       0.81      0.77      0.79     57078\n",
      "\n"
     ]
    }
   ],
   "source": [
    "gaussianNB_model = GaussianNB()\n",
    "gaussianNB_model.fit(X_train, y_train)\n",
    "print('Best score:', np.round(accuracy_score(y_test, gaussianNB_model.predict(X_test)), 6))\n",
    "evaluate_model(gaussianNB_model)"
   ]
  },
  {
   "cell_type": "code",
   "execution_count": 10,
   "id": "216680fa",
   "metadata": {},
   "outputs": [
    {
     "name": "stdout",
     "output_type": "stream",
     "text": [
      "Cross validation - GaussianNB: 0.774876\n"
     ]
    }
   ],
   "source": [
    "print('Cross validation - GaussianNB:', np.round(cross_val_score(GaussianNB(), X, y, cv = 5).mean(), 6))"
   ]
  },
  {
   "cell_type": "markdown",
   "id": "31d9c72d",
   "metadata": {},
   "source": [
    "#### MultinomialNB"
   ]
  },
  {
   "cell_type": "code",
   "execution_count": 11,
   "id": "59dfa2fc",
   "metadata": {},
   "outputs": [
    {
     "name": "stdout",
     "output_type": "stream",
     "text": [
      "Best score: 0.782666\n",
      "\n",
      "Classification report: \n",
      "              precision    recall  f1-score   support\n",
      "\n",
      "           0       0.87      0.87      0.87     48163\n",
      "           1       0.31      0.32      0.31      8915\n",
      "\n",
      "    accuracy                           0.78     57078\n",
      "   macro avg       0.59      0.59      0.59     57078\n",
      "weighted avg       0.78      0.78      0.78     57078\n",
      "\n"
     ]
    }
   ],
   "source": [
    "multinomialNB_model = MultinomialNB()\n",
    "multinomialNB_model.fit(X_train, y_train)\n",
    "print('Best score:', np.round(accuracy_score(y_test, multinomialNB_model.predict(X_test)), 6))\n",
    "evaluate_model(multinomialNB_model)"
   ]
  },
  {
   "cell_type": "code",
   "execution_count": 12,
   "id": "e8cfca30",
   "metadata": {},
   "outputs": [
    {
     "name": "stdout",
     "output_type": "stream",
     "text": [
      "Cross validation - MultinomialNB: 0.781302\n"
     ]
    }
   ],
   "source": [
    "print('Cross validation - MultinomialNB:', np.round(cross_val_score(MultinomialNB(), X, y, cv = 5).mean(), 6))"
   ]
  },
  {
   "cell_type": "markdown",
   "id": "a5aabcc2",
   "metadata": {},
   "source": [
    "GaussianNB and MultinomialNB gave very similar results. Cross-validation of very basic layering models yielded accuracy scores of around 0.77.\\\n",
    "We can see that both models detect healthy individuals more accurately than those who are pre-diabetic or diagnosed with diabetes."
   ]
  },
  {
   "cell_type": "markdown",
   "id": "4598ada3",
   "metadata": {},
   "source": [
    "### Logistic Regression"
   ]
  },
  {
   "cell_type": "code",
   "execution_count": 13,
   "id": "cde46b4d",
   "metadata": {},
   "outputs": [],
   "source": [
    "lr_model = Pipeline([(\"scaler\", StandardScaler()), (\"model\", LogisticRegression())])\n",
    "\n",
    "lr_param_grid = {'model__C' : 10**np.arange(-3,4, dtype = float), \n",
    "                 'model__penalty' : ['l1','l2'],  \n",
    "                 'model__class_weight' : ['balanced', None]}"
   ]
  },
  {
   "cell_type": "code",
   "execution_count": 14,
   "id": "61832a6d",
   "metadata": {},
   "outputs": [
    {
     "name": "stdout",
     "output_type": "stream",
     "text": [
      "Best score: 0.848295\n",
      "\n",
      "Classification report: \n",
      "              precision    recall  f1-score   support\n",
      "\n",
      "           0       0.86      0.98      0.92     48163\n",
      "           1       0.55      0.16      0.25      8915\n",
      "\n",
      "    accuracy                           0.85     57078\n",
      "   macro avg       0.71      0.57      0.58     57078\n",
      "weighted avg       0.81      0.85      0.81     57078\n",
      "\n"
     ]
    }
   ],
   "source": [
    "lr_baseline = LogisticRegression(random_state = 0)\n",
    "lr_baseline.fit(X_train, y_train)\n",
    "print('Best score:', np.round(accuracy_score(y_test, lr_baseline.predict(X_test)), 6))\n",
    "evaluate_model(lr_baseline)"
   ]
  },
  {
   "cell_type": "code",
   "execution_count": 15,
   "id": "0c81d03b",
   "metadata": {},
   "outputs": [
    {
     "name": "stdout",
     "output_type": "stream",
     "text": [
      "Fitting 5 folds for each of 28 candidates, totalling 140 fits\n",
      "Best parameters found:\n",
      "{'model__C': 0.001, 'model__class_weight': None, 'model__penalty': 'l2'}\n",
      "\n",
      "Best score: 0.846950\n",
      "\n",
      "Classification report: \n",
      "              precision    recall  f1-score   support\n",
      "\n",
      "           0       0.86      0.98      0.92     48163\n",
      "           1       0.56      0.16      0.25      8915\n",
      "\n",
      "    accuracy                           0.85     57078\n",
      "   macro avg       0.71      0.57      0.58     57078\n",
      "weighted avg       0.82      0.85      0.81     57078\n",
      "\n"
     ]
    }
   ],
   "source": [
    "lr_model = optimize_model(lr_model, lr_param_grid)\n",
    "evaluate_model(lr_model)"
   ]
  },
  {
   "cell_type": "code",
   "execution_count": 16,
   "id": "1e7ecfe6",
   "metadata": {},
   "outputs": [
    {
     "name": "stdout",
     "output_type": "stream",
     "text": [
      "Fitting 5 folds for each of 50 candidates, totalling 250 fits\n",
      "Best parameters found:\n",
      "{'model__C': 0.001}\n",
      "\n",
      "Best score: 0.846950\n",
      "\n",
      "Classification report: \n",
      "              precision    recall  f1-score   support\n",
      "\n",
      "           0       0.86      0.98      0.92     48163\n",
      "           1       0.56      0.16      0.25      8915\n",
      "\n",
      "    accuracy                           0.85     57078\n",
      "   macro avg       0.71      0.57      0.58     57078\n",
      "weighted avg       0.82      0.85      0.81     57078\n",
      "\n"
     ]
    }
   ],
   "source": [
    "lr_model = Pipeline([(\"scaler\", StandardScaler()), (\"model\", LogisticRegression())])\n",
    "lr_param_grid = {'model__C' : 10**np.linspace(-3, 0, num=50)}\n",
    "lr_model = optimize_model(lr_model, lr_param_grid)\n",
    "evaluate_model(lr_model)"
   ]
  },
  {
   "cell_type": "markdown",
   "id": "a69e51a5",
   "metadata": {},
   "source": [
    "Optimization of parameter C did not improve the accuracy of the linear regression model."
   ]
  },
  {
   "cell_type": "code",
   "execution_count": 17,
   "id": "77b34ae6",
   "metadata": {},
   "outputs": [
    {
     "data": {
      "text/plain": [
       "<Figure size 200x100 with 0 Axes>"
      ]
     },
     "metadata": {},
     "output_type": "display_data"
    },
    {
     "data": {
      "image/png": "[encoded data removed]",
      "text/plain": [
       "<Figure size 640x480 with 2 Axes>"
      ]
     },
     "metadata": {},
     "output_type": "display_data"
    }
   ],
   "source": [
    "y_pred = lr_model.predict(X_test)\n",
    "cm = confusion_matrix(y_test, y_pred)\n",
    "plt.figure(figsize=(2, 1))\n",
    "disp = ConfusionMatrixDisplay(confusion_matrix=cm)\n",
    "disp.plot(cmap=plt.cm.Reds)\n",
    "plt.show()\n"
   ]
  },
  {
   "cell_type": "markdown",
   "id": "0f483a1a",
   "metadata": {},
   "source": [
    "### SVM"
   ]
  },
  {
   "cell_type": "code",
   "execution_count": null,
   "id": "7c19e67f",
   "metadata": {},
   "outputs": [],
   "source": [
    "svm_model = Pipeline([(\"scaler\", StandardScaler()), (\"model\", SVC(kernel='rbf'))])\n",
    "\n",
    "svm_param_grid = {'model__C' : 10**np.arange(-3,4, dtype = float),\n",
    "                  'model__class_weight' : ['balanced', None]}"
   ]
  },
  {
   "cell_type": "code",
   "execution_count": null,
   "id": "7a984303",
   "metadata": {},
   "outputs": [],
   "source": [
    "svm_baseline = SVC(random_state = 0)\n",
    "svm_baseline.fit(X_train, y_train)\n",
    "print('Best score:', np.round(accuracy_score(y_test, svm_baseline.predict(X_test)), 6))\n",
    "evaluate_model(svm_baseline)"
   ]
  },
  {
   "cell_type": "code",
   "execution_count": null,
   "id": "355d8c05",
   "metadata": {},
   "outputs": [],
   "source": [
    "y_pred = svm_baseline.predict(X_test)\n",
    "cm = confusion_matrix(y_test, y_pred)\n",
    "plt.figure(figsize=(2, 1))\n",
    "disp = ConfusionMatrixDisplay(confusion_matrix=cm)\n",
    "disp.plot(cmap=plt.cm.Reds)\n",
    "plt.show()\n"
   ]
  },
  {
   "cell_type": "markdown",
   "id": "6e86f2fd",
   "metadata": {},
   "source": [
    "The dataset for the SVM classifier is too large."
   ]
  },
  {
   "cell_type": "markdown",
   "id": "9fc82ae0",
   "metadata": {},
   "source": [
    "### Decision Tree Classifier"
   ]
  },
  {
   "cell_type": "code",
   "execution_count": 18,
   "id": "2ec97330",
   "metadata": {},
   "outputs": [],
   "source": [
    "tree_model = Pipeline([(\"scaler\", StandardScaler()), (\"model\", DecisionTreeClassifier())])\n",
    "\n",
    "tree_param_grid = {'model__criterion': ['gini', 'entropy'],\n",
    "                   'model__max_depth': [2, 5, 10, 20, 30],\n",
    "                   'model__min_samples_leaf': [5, 10, 20, 30]}"
   ]
  },
  {
   "cell_type": "code",
   "execution_count": 19,
   "id": "c2d60a44",
   "metadata": {},
   "outputs": [
    {
     "name": "stdout",
     "output_type": "stream",
     "text": [
      "Best score: 0.779652\n",
      "\n",
      "Classification report: \n",
      "              precision    recall  f1-score   support\n",
      "\n",
      "           0       0.87      0.86      0.87     48163\n",
      "           1       0.31      0.32      0.31      8915\n",
      "\n",
      "    accuracy                           0.78     57078\n",
      "   macro avg       0.59      0.59      0.59     57078\n",
      "weighted avg       0.78      0.78      0.78     57078\n",
      "\n"
     ]
    }
   ],
   "source": [
    "tree_baseline = DecisionTreeClassifier(random_state = 0)\n",
    "tree_baseline.fit(X_train, y_train)\n",
    "print('Best score:', np.round(accuracy_score(y_test, tree_baseline.predict(X_test)), 6))\n",
    "evaluate_model(tree_baseline)"
   ]
  },
  {
   "cell_type": "code",
   "execution_count": 21,
   "id": "f77b8941",
   "metadata": {},
   "outputs": [
    {
     "name": "stdout",
     "output_type": "stream",
     "text": [
      "Fitting 5 folds for each of 40 candidates, totalling 200 fits\n",
      "Best parameters found:\n",
      "{'model__criterion': 'entropy', 'model__max_depth': 10, 'model__min_samples_leaf': 30}\n",
      "\n",
      "Best score: 0.846486\n",
      "\n",
      "Classification report: \n",
      "              precision    recall  f1-score   support\n",
      "\n",
      "           0       0.86      0.98      0.92     48163\n",
      "           1       0.56      0.12      0.20      8915\n",
      "\n",
      "    accuracy                           0.85     57078\n",
      "   macro avg       0.71      0.55      0.56     57078\n",
      "weighted avg       0.81      0.85      0.80     57078\n",
      "\n"
     ]
    }
   ],
   "source": [
    "tree_model = optimize_model(tree_model, tree_param_grid)\n",
    "evaluate_model(tree_model)"
   ]
  },
  {
   "cell_type": "code",
   "execution_count": 22,
   "id": "e6755ffd",
   "metadata": {},
   "outputs": [
    {
     "name": "stdout",
     "output_type": "stream",
     "text": [
      "Fitting 5 folds for each of 12 candidates, totalling 60 fits\n",
      "Best parameters found:\n",
      "{'model__min_samples_leaf': 650}\n",
      "\n",
      "Best score: 0.848001\n",
      "\n",
      "Classification report: \n",
      "              precision    recall  f1-score   support\n",
      "\n",
      "           0       0.86      0.99      0.92     48163\n",
      "           1       0.58      0.11      0.19      8915\n",
      "\n",
      "    accuracy                           0.85     57078\n",
      "   macro avg       0.72      0.55      0.55     57078\n",
      "weighted avg       0.81      0.85      0.80     57078\n",
      "\n"
     ]
    }
   ],
   "source": [
    "tree_model = Pipeline([(\"scaler\", StandardScaler()), (\"model\", DecisionTreeClassifier(criterion = 'entropy', \n",
    "                                                                                      max_depth = 10))])\n",
    "tree_param_grid = {'model__min_samples_leaf': [30, 45, 50, 75, 100, 150, 200, 300, 500, 650, 750, 900]}\n",
    "tree_model = optimize_model(tree_model, tree_param_grid)\n",
    "evaluate_model(tree_model)"
   ]
  },
  {
   "cell_type": "markdown",
   "id": "ed0c7f40",
   "metadata": {},
   "source": [
    "Narrowing down the area"
   ]
  },
  {
   "cell_type": "code",
   "execution_count": 23,
   "id": "efd84cfe",
   "metadata": {},
   "outputs": [
    {
     "name": "stdout",
     "output_type": "stream",
     "text": [
      "Fitting 5 folds for each of 20 candidates, totalling 100 fits\n",
      "Best parameters found:\n",
      "{'model__min_samples_leaf': 645}\n",
      "\n",
      "Best score: 0.848001\n",
      "\n",
      "Classification report: \n",
      "              precision    recall  f1-score   support\n",
      "\n",
      "           0       0.86      0.99      0.92     48163\n",
      "           1       0.58      0.11      0.19      8915\n",
      "\n",
      "    accuracy                           0.85     57078\n",
      "   macro avg       0.72      0.55      0.55     57078\n",
      "weighted avg       0.81      0.85      0.80     57078\n",
      "\n"
     ]
    }
   ],
   "source": [
    "tree_model = Pipeline([(\"scaler\", StandardScaler()), (\"model\", DecisionTreeClassifier(criterion = 'entropy', \n",
    "                                                                                      max_depth = 10))])\n",
    "tree_param_grid = {'model__min_samples_leaf': np.arange(630,650,1)}\n",
    "tree_model = optimize_model(tree_model, tree_param_grid)\n",
    "evaluate_model(tree_model)"
   ]
  },
  {
   "cell_type": "code",
   "execution_count": 24,
   "id": "e5a177db",
   "metadata": {},
   "outputs": [
    {
     "data": {
      "text/plain": [
       "<Figure size 200x100 with 0 Axes>"
      ]
     },
     "metadata": {},
     "output_type": "display_data"
    },
    {
     "data": {
      "image/png": "[encoded data removed]",
      "text/plain": [
       "<Figure size 640x480 with 2 Axes>"
      ]
     },
     "metadata": {},
     "output_type": "display_data"
    }
   ],
   "source": [
    "y_pred = tree_model.predict(X_test)\n",
    "cm = confusion_matrix(y_test, y_pred)\n",
    "plt.figure(figsize=(2, 1))\n",
    "disp = ConfusionMatrixDisplay(confusion_matrix=cm)\n",
    "disp.plot(cmap=plt.cm.Reds)\n",
    "plt.show()"
   ]
  },
  {
   "cell_type": "markdown",
   "id": "ebc179b8",
   "metadata": {},
   "source": [
    "### Random Forest Classifier"
   ]
  },
  {
   "cell_type": "code",
   "execution_count": 27,
   "id": "21f4426e",
   "metadata": {},
   "outputs": [
    {
     "name": "stdout",
     "output_type": "stream",
     "text": [
      "Best score: 0.840762\n",
      "\n",
      "Classification report: \n",
      "              precision    recall  f1-score   support\n",
      "\n",
      "           0       0.86      0.96      0.91     48163\n",
      "           1       0.47      0.17      0.26      8915\n",
      "\n",
      "    accuracy                           0.84     57078\n",
      "   macro avg       0.67      0.57      0.58     57078\n",
      "weighted avg       0.80      0.84      0.81     57078\n",
      "\n"
     ]
    }
   ],
   "source": [
    "forest_classifier= RandomForestClassifier(random_state = 0)\n",
    "forest_classifier.fit(X_train, y_train)\n",
    "print('Best score:', np.round(accuracy_score(y_test, forest_classifier.predict(X_test)), 6))\n",
    "evaluate_model(forest_classifier)"
   ]
  },
  {
   "cell_type": "code",
   "execution_count": 28,
   "id": "549564ee",
   "metadata": {},
   "outputs": [
    {
     "data": {
      "text/plain": [
       "<Figure size 200x100 with 0 Axes>"
      ]
     },
     "metadata": {},
     "output_type": "display_data"
    },
    {
     "data": {
      "image/png": "[encoded data removed]",
      "text/plain": [
       "<Figure size 640x480 with 2 Axes>"
      ]
     },
     "metadata": {},
     "output_type": "display_data"
    }
   ],
   "source": [
    "y_pred = forest_classifier.predict(X_test)\n",
    "cm = confusion_matrix(y_test, y_pred)\n",
    "plt.figure(figsize=(2, 1))\n",
    "disp = ConfusionMatrixDisplay(confusion_matrix=cm)\n",
    "disp.plot(cmap=plt.cm.Reds)\n",
    "plt.show()"
   ]
  },
  {
   "cell_type": "markdown",
   "id": "00ac7dfb",
   "metadata": {},
   "source": [
    "#### _OPTIONAL_"
   ]
  },
  {
   "cell_type": "code",
   "execution_count": null,
   "id": "901eaee3",
   "metadata": {},
   "outputs": [],
   "source": [
    "forest_model = Pipeline([(\"scaler\", StandardScaler()), (\"model\", RandomForestClassifier())])\n",
    "\n",
    "forest_param_grid = {'model__n_estimators': [200, 500, 1000],\n",
    "                     'model__max_depth' : [5, 15, 50],\n",
    "                     'model__min_samples_leaf': [5, 10, 20],\n",
    "                     'model__criterion': ['gini', 'entropy']}"
   ]
  },
  {
   "cell_type": "code",
   "execution_count": null,
   "id": "18543dbf",
   "metadata": {},
   "outputs": [],
   "source": [
    "forest_model = optimize_model(forest_model, forest_param_grid)\n",
    "evaluate_model(forest_model)"
   ]
  },
  {
   "cell_type": "code",
   "execution_count": null,
   "id": "7df162eb",
   "metadata": {},
   "outputs": [],
   "source": [
    "forest_model = Pipeline([(\"scaler\", StandardScaler()), (\"model\", RandomForestClassifier(min_samples_leaf = 10,\n",
    "                                                                                        criterion = 'entropy'))])\n",
    "forest_param_grid = {'model__n_estimators': [400, 500, 700],\n",
    "                     'model__max_depth' : [35, 50, 100]}\n",
    "forest_model = optimize_model(forest_model, forest_param_grid)\n",
    "evaluate_model(forest_model)\n",
    "\n",
    "#narrow the area and choose the best parameters"
   ]
  },
  {
   "cell_type": "markdown",
   "id": "64ffb0ff",
   "metadata": {},
   "source": [
    "### XGBoost Classifier"
   ]
  },
  {
   "cell_type": "code",
   "execution_count": 31,
   "id": "60e028f2",
   "metadata": {},
   "outputs": [
    {
     "name": "stdout",
     "output_type": "stream",
     "text": [
      "Best score: 0.848856\n",
      "\n",
      "Classification report: \n",
      "              precision    recall  f1-score   support\n",
      "\n",
      "           0       0.86      0.97      0.92     48163\n",
      "           1       0.55      0.17      0.26      8915\n",
      "\n",
      "    accuracy                           0.85     57078\n",
      "   macro avg       0.71      0.57      0.59     57078\n",
      "weighted avg       0.82      0.85      0.81     57078\n",
      "\n"
     ]
    }
   ],
   "source": [
    "xgb_classifier = xgb.XGBClassifier(eval_metric='error', random_state = 0)\n",
    "xgb_classifier.fit(X_train, y_train)\n",
    "print('Best score:', np.round(accuracy_score(y_test, xgb_classifier.predict(X_test)), 6))\n",
    "evaluate_model(xgb_classifier)"
   ]
  },
  {
   "cell_type": "code",
   "execution_count": 32,
   "id": "25696725",
   "metadata": {},
   "outputs": [
    {
     "data": {
      "text/plain": [
       "<Figure size 200x100 with 0 Axes>"
      ]
     },
     "metadata": {},
     "output_type": "display_data"
    },
    {
     "data": {
      "image/png": "[encoded data removed]",
      "text/plain": [
       "<Figure size 640x480 with 2 Axes>"
      ]
     },
     "metadata": {},
     "output_type": "display_data"
    }
   ],
   "source": [
    "y_pred = xgb_classifier.predict(X_test)\n",
    "cm = confusion_matrix(y_test, y_pred)\n",
    "plt.figure(figsize=(2, 1))\n",
    "disp = ConfusionMatrixDisplay(confusion_matrix=cm)\n",
    "disp.plot(cmap=plt.cm.Reds)\n",
    "plt.show()"
   ]
  },
  {
   "cell_type": "markdown",
   "id": "5d4cf5c5",
   "metadata": {},
   "source": [
    "#### _OPTIONAL_"
   ]
  },
  {
   "cell_type": "code",
   "execution_count": null,
   "id": "43df3611",
   "metadata": {},
   "outputs": [],
   "source": [
    "xgb_model = Pipeline([(\"scaler\", StandardScaler()), (\"model\", xgb.XGBClassifier(eval_metric='error'))])\n",
    "\n",
    "xgb_param_grid  = {'model__n_estimators': [200, 400, 800],\n",
    "                   'model__max_depth': [5, 10, 20],\n",
    "                   'model__learning_rate': [0.05, 0.1, 0.20],\n",
    "                   'model__min_child_weight': [1, 10, 100]}"
   ]
  },
  {
   "cell_type": "code",
   "execution_count": null,
   "id": "50d8f142",
   "metadata": {},
   "outputs": [],
   "source": [
    "xgb_model = optimize_model(xgb_model, xgb_param_grid)\n",
    "evaluate_model(xgb_model)"
   ]
  },
  {
   "cell_type": "code",
   "execution_count": null,
   "id": "5f4f0322",
   "metadata": {},
   "outputs": [],
   "source": [
    "xgb_model = Pipeline([(\"scaler\", StandardScaler()), (\"model\", xgb.XGBClassifier(eval_metric='error'))])\n",
    "xgb_param_grid  = {'model__n_estimators': [800, 1000],\n",
    "                   'model__max_depth': [1, 3, 5],\n",
    "                   'model__learning_rate': [0.001, 0.01, 0.05],\n",
    "                   'model__min_child_weight': [100, 200]}\n",
    "xgb_model = optimize_model(xgb_model, xgb_param_grid)\n",
    "evaluate_model(xgb_model)\n",
    "\n",
    "#narrow the area for the best parameters"
   ]
  },
  {
   "cell_type": "markdown",
   "id": "d6382c11",
   "metadata": {},
   "source": [
    "## Metrics"
   ]
  },
  {
   "cell_type": "code",
   "execution_count": 42,
   "id": "856fc48c",
   "metadata": {},
   "outputs": [],
   "source": [
    "from sklearn import metrics\n",
    "model_name = []\n",
    "accuracy_score = []\n",
    "f1_score = []\n",
    "roc_auc_score = []\n",
    "recall_score = []\n",
    "precision_score = []\n",
    "    \n",
    "def metrics_models(name, model, X_test = X_test, y_test = y_test):\n",
    "    models = list()\n",
    "    models.append((name, model))\n",
    "    \n",
    "    for name, model in models:\n",
    "        model_name.append(name)\n",
    "        accuracy_score.append(metrics.accuracy_score(y_test, model.predict(X_test)))\n",
    "        f1_score.append(metrics.f1_score(y_test, model.predict(X_test)))\n",
    "        roc_auc_score.append(metrics.roc_auc_score(y_test, model.predict(X_test)))\n",
    "        recall_score.append(metrics.recall_score(y_test, model.predict(X_test)))\n",
    "        precision_score.append(metrics.precision_score(y_test, model.predict(X_test)))\n"
   ]
  },
  {
   "cell_type": "code",
   "execution_count": 43,
   "id": "5ce86009",
   "metadata": {},
   "outputs": [],
   "source": [
    "metrics_models('Base GaussianNB', gaussianNB_model)\n",
    "metrics_models('Base MultinomialNB', multinomialNB_model)\n",
    "metrics_models('Base LinearRegression', lr_baseline)\n",
    "metrics_models('LinearRegression', lr_model)\n",
    "metrics_models('Base DecisionTreeClassifier', tree_baseline)\n",
    "metrics_models('DecisionTreeClassifier', tree_model)\n",
    "metrics_models('RandomForestClassifier', forest_classifier)\n",
    "metrics_models('XGBoostClassifier', xgb_classifier)"
   ]
  },
  {
   "cell_type": "code",
   "execution_count": 44,
   "id": "a8b94cdc",
   "metadata": {},
   "outputs": [],
   "source": [
    "metric_df = pd.DataFrame({'Model': model_name,\n",
    "                           'Accuracy': accuracy_score,\n",
    "                           'F1-score': f1_score,\n",
    "                           'AUC': roc_auc_score,\n",
    "                           'Recall': recall_score,\n",
    "                           'Precision': precision_score})"
   ]
  },
  {
   "cell_type": "code",
   "execution_count": 45,
   "id": "797ee29b",
   "metadata": {},
   "outputs": [
    {
     "data": {
      "text/html": [
       "<div>\n",
       "<style scoped>\n",
       "    .dataframe tbody tr th:only-of-type {\n",
       "        vertical-align: middle;\n",
       "    }\n",
       "\n",
       "    .dataframe tbody tr th {\n",
       "        vertical-align: top;\n",
       "    }\n",
       "\n",
       "    .dataframe thead th {\n",
       "        text-align: right;\n",
       "    }\n",
       "</style>\n",
       "<table border=\"1\" class=\"dataframe\">\n",
       "  <thead>\n",
       "    <tr style=\"text-align: right;\">\n",
       "      <th></th>\n",
       "      <th>Model</th>\n",
       "      <th>Accuracy</th>\n",
       "      <th>F1-score</th>\n",
       "      <th>AUC</th>\n",
       "      <th>Recall</th>\n",
       "      <th>Precision</th>\n",
       "    </tr>\n",
       "  </thead>\n",
       "  <tbody>\n",
       "    <tr>\n",
       "      <th>0</th>\n",
       "      <td>Base GaussianNB</td>\n",
       "      <td>0.774729</td>\n",
       "      <td>0.401062</td>\n",
       "      <td>0.655821</td>\n",
       "      <td>0.482894</td>\n",
       "      <td>0.342946</td>\n",
       "    </tr>\n",
       "    <tr>\n",
       "      <th>1</th>\n",
       "      <td>Base MultinomialNB</td>\n",
       "      <td>0.782666</td>\n",
       "      <td>0.313161</td>\n",
       "      <td>0.593019</td>\n",
       "      <td>0.317218</td>\n",
       "      <td>0.309206</td>\n",
       "    </tr>\n",
       "    <tr>\n",
       "      <th>2</th>\n",
       "      <td>Base LinearRegression</td>\n",
       "      <td>0.848295</td>\n",
       "      <td>0.246060</td>\n",
       "      <td>0.567237</td>\n",
       "      <td>0.158497</td>\n",
       "      <td>0.549805</td>\n",
       "    </tr>\n",
       "    <tr>\n",
       "      <th>3</th>\n",
       "      <td>LinearRegression</td>\n",
       "      <td>0.849347</td>\n",
       "      <td>0.245768</td>\n",
       "      <td>0.567312</td>\n",
       "      <td>0.157151</td>\n",
       "      <td>0.563556</td>\n",
       "    </tr>\n",
       "    <tr>\n",
       "      <th>4</th>\n",
       "      <td>Base DecisionTreeClassifier</td>\n",
       "      <td>0.779652</td>\n",
       "      <td>0.313445</td>\n",
       "      <td>0.593199</td>\n",
       "      <td>0.322042</td>\n",
       "      <td>0.305296</td>\n",
       "    </tr>\n",
       "    <tr>\n",
       "      <th>5</th>\n",
       "      <td>DecisionTreeClassifier</td>\n",
       "      <td>0.848838</td>\n",
       "      <td>0.189098</td>\n",
       "      <td>0.548958</td>\n",
       "      <td>0.112844</td>\n",
       "      <td>0.583188</td>\n",
       "    </tr>\n",
       "    <tr>\n",
       "      <th>6</th>\n",
       "      <td>RandomForestClassifier</td>\n",
       "      <td>0.840762</td>\n",
       "      <td>0.255549</td>\n",
       "      <td>0.569492</td>\n",
       "      <td>0.174986</td>\n",
       "      <td>0.473588</td>\n",
       "    </tr>\n",
       "    <tr>\n",
       "      <th>7</th>\n",
       "      <td>XGBoostClassifier</td>\n",
       "      <td>0.848856</td>\n",
       "      <td>0.262965</td>\n",
       "      <td>0.573328</td>\n",
       "      <td>0.172630</td>\n",
       "      <td>0.551613</td>\n",
       "    </tr>\n",
       "  </tbody>\n",
       "</table>\n",
       "</div>"
      ],
      "text/plain": [
       "                         Model  Accuracy  F1-score       AUC    Recall  \\\n",
       "0              Base GaussianNB  0.774729  0.401062  0.655821  0.482894   \n",
       "1           Base MultinomialNB  0.782666  0.313161  0.593019  0.317218   \n",
       "2        Base LinearRegression  0.848295  0.246060  0.567237  0.158497   \n",
       "3             LinearRegression  0.849347  0.245768  0.567312  0.157151   \n",
       "4  Base DecisionTreeClassifier  0.779652  0.313445  0.593199  0.322042   \n",
       "5       DecisionTreeClassifier  0.848838  0.189098  0.548958  0.112844   \n",
       "6       RandomForestClassifier  0.840762  0.255549  0.569492  0.174986   \n",
       "7            XGBoostClassifier  0.848856  0.262965  0.573328  0.172630   \n",
       "\n",
       "   Precision  \n",
       "0   0.342946  \n",
       "1   0.309206  \n",
       "2   0.549805  \n",
       "3   0.563556  \n",
       "4   0.305296  \n",
       "5   0.583188  \n",
       "6   0.473588  \n",
       "7   0.551613  "
      ]
     },
     "execution_count": 45,
     "metadata": {},
     "output_type": "execute_result"
    }
   ],
   "source": [
    "metric_df"
   ]
  },
  {
   "cell_type": "markdown",
   "id": "d35049fb",
   "metadata": {},
   "source": [
    "The accuracy for the Logistic Regression model and XGBoost Classifier are the best. I will also be focusing on the Recall value(False Negative) as it is important for this problem statement so i choose the Decision Tree Classifier as well."
   ]
  },
  {
   "cell_type": "code",
   "execution_count": 46,
   "id": "79d4f48f",
   "metadata": {},
   "outputs": [
    {
     "data": {
      "text/plain": [
       "Diabetes_01\n",
       "0    240502\n",
       "1     44887\n",
       "Name: count, dtype: int64"
      ]
     },
     "execution_count": 46,
     "metadata": {},
     "output_type": "execute_result"
    }
   ],
   "source": [
    "df['Diabetes_01'].value_counts()"
   ]
  },
  {
   "cell_type": "markdown",
   "id": "f4903d91",
   "metadata": {},
   "source": [
    "The dataset is imblanced so I will be performing oversampling and SMOTE to balance the data and train the logistic regression model, decision tree classifier and xgboost classifier"
   ]
  },
  {
   "cell_type": "markdown",
   "id": "dd44153c",
   "metadata": {},
   "source": []
  }
 ],
 "metadata": {
  "kernelspec": {
   "display_name": "Python 3 (ipykernel)",
   "language": "python",
   "name": "python3"
  },
  "language_info": {
   "codemirror_mode": {
    "name": "ipython",
    "version": 3
   },
   "file_extension": ".py",
   "mimetype": "text/x-python",
   "name": "python",
   "nbconvert_exporter": "python",
   "pygments_lexer": "ipython3",
   "version": "3.12.2"
  },
  "toc": {
   "base_numbering": 1,
   "nav_menu": {
    "height": "255.99px",
    "width": "571.354px"
   },
   "number_sections": true,
   "sideBar": true,
   "skip_h1_title": true,
   "title_cell": "Table of Contents",
   "title_sidebar": "Contents",
   "toc_cell": true,
   "toc_position": {},
   "toc_section_display": true,
   "toc_window_display": false
  },
  "varInspector": {
   "cols": {
    "lenName": 16,
    "lenType": 16,
    "lenVar": 40
   },
   "kernels_config": {
    "python": {
     "delete_cmd_postfix": "",
     "delete_cmd_prefix": "del ",
     "library": "var_list.py",
     "varRefreshCmd": "print(var_dic_list())"
    },
    "r": {
     "delete_cmd_postfix": ") ",
     "delete_cmd_prefix": "rm(",
     "library": "var_list.r",
     "varRefreshCmd": "cat(var_dic_list()) "
    }
   },
   "types_to_exclude": [
    "module",
    "function",
    "builtin_function_or_method",
    "instance",
    "_Feature"
   ],
   "window_display": false
  }
 },
 "nbformat": 4,
 "nbformat_minor": 5
}
