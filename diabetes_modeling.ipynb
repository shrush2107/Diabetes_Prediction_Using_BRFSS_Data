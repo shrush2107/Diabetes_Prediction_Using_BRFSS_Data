{
 "cells": [
  {
   "cell_type": "markdown",
   "id": "69b26c23",
   "metadata": {},
   "source": [
    "# Predicting Diabetes Using BRFSS Data"
   ]
  },
  {
   "cell_type": "code",
   "execution_count": null,
   "id": "aec6b702",
   "metadata": {},
   "outputs": [],
   "source": [
    "import numpy as np\n",
    "import pandas as pd\n",
    "import seaborn as sns\n",
    "import matplotlib.pyplot as plt\n",
    "import plotly.express as px\n",
    "from sklearn.model_selection import train_test_split\n",
    "from sklearn.model_selection import cross_val_score\n",
    "from sklearn.model_selection import GridSearchCV\n",
    "from sklearn.pipeline import Pipeline, make_pipeline\n",
    "from sklearn.preprocessing import StandardScaler, MinMaxScaler\n",
    "from sklearn.naive_bayes import GaussianNB, MultinomialNB\n",
    "from sklearn.linear_model import LogisticRegression\n",
    "from sklearn.svm import SVC\n",
    "from sklearn.ensemble import RandomForestClassifier\n",
    "from sklearn.tree import DecisionTreeClassifier\n",
    "import xgboost as xgb\n",
    "from sklearn.metrics import accuracy_score, f1_score, recall_score, roc_auc_score, precision_score\n",
    "from sklearn.metrics import confusion_matrix, classification_report\n",
    "from sklearn.metrics import ConfusionMatrixDisplay"
   ]
  },
  {
   "cell_type": "code",
   "execution_count": null,
   "id": "21bd4ff0",
   "metadata": {},
   "outputs": [],
   "source": [
    "import warnings\n",
    "warnings.filterwarnings(\"ignore\")"
   ]
  },
  {
   "cell_type": "code",
   "execution_count": null,
   "id": "d62d01ef",
   "metadata": {},
   "outputs": [],
   "source": [
    "df = pd.read_csv('Diabetes_2022.csv')"
   ]
  },
  {
   "cell_type": "code",
   "execution_count": null,
   "id": "139e1273",
   "metadata": {},
   "outputs": [],
   "source": [
    "y = df.Diabetes_01\n",
    "X = df.drop(['Diabetes_01'], axis=1)"
   ]
  },
  {
   "cell_type": "code",
   "execution_count": null,
   "id": "9a337c2d",
   "metadata": {},
   "outputs": [],
   "source": [
    "X_train, X_test, y_train, y_test = train_test_split(X, y, test_size = 0.2, random_state = 0)"
   ]
  },
  {
   "cell_type": "code",
   "execution_count": null,
   "id": "975224c7",
   "metadata": {},
   "outputs": [],
   "source": [
    "print('X_train:', X_train.shape, 'X_test:', X_test.shape)\n",
    "print('y_train:', y_train.shape, 'y_test:', y_test.shape)"
   ]
  },
  {
   "cell_type": "code",
   "execution_count": null,
   "id": "ff7ecbf0",
   "metadata": {},
   "outputs": [],
   "source": [
    "def optimize_model(model, param_grid, cv = 5, X_train = X_train, y_train = y_train):\n",
    "    optimizer = GridSearchCV(model, param_grid = param_grid, scoring=\"accuracy\", cv = cv, n_jobs = -1, verbose = True)\n",
    "    optimizer.fit(X_train, y_train)\n",
    "    print('Best parameters found:')\n",
    "    print(optimizer.best_params_)\n",
    "    print('\\nBest score: %0.6f' % (optimizer.best_score_))\n",
    "    \n",
    "    return optimizer.best_estimator_"
   ]
  },
  {
   "cell_type": "code",
   "execution_count": null,
   "id": "254ed4c0",
   "metadata": {},
   "outputs": [],
   "source": [
    "def evaluate_model(model, X_test = X_test, y_test = y_test):\n",
    "    y_pred = model.predict(X_test)\n",
    "    print('\\nClassification report: ')\n",
    "    print(classification_report(y_test, y_pred))"
   ]
  },
  {
   "cell_type": "markdown",
   "id": "78ec7d82",
   "metadata": {},
   "source": [
    "#### GaussianNB"
   ]
  },
  {
   "cell_type": "code",
   "execution_count": null,
   "id": "ee13e1d2",
   "metadata": {},
   "outputs": [],
   "source": [
    "gaussianNB_model = GaussianNB()\n",
    "gaussianNB_model.fit(X_train, y_train)\n",
    "print('Best score:', np.round(accuracy_score(y_test, gaussianNB_model.predict(X_test)), 6))\n",
    "evaluate_model(gaussianNB_model)"
   ]
  },
  {
   "cell_type": "code",
   "execution_count": null,
   "id": "216680fa",
   "metadata": {},
   "outputs": [],
   "source": [
    "print('Cross validation - GaussianNB:', np.round(cross_val_score(GaussianNB(), X, y, cv = 5).mean(), 6))"
   ]
  },
  {
   "cell_type": "markdown",
   "id": "31d9c72d",
   "metadata": {},
   "source": [
    "#### MultinomialNB"
   ]
  },
  {
   "cell_type": "code",
   "execution_count": null,
   "id": "59dfa2fc",
   "metadata": {},
   "outputs": [],
   "source": [
    "multinomialNB_model = MultinomialNB()\n",
    "multinomialNB_model.fit(X_train, y_train)\n",
    "print('Best score:', np.round(accuracy_score(y_test, multinomialNB_model.predict(X_test)), 6))\n",
    "evaluate_model(multinomialNB_model)"
   ]
  },
  {
   "cell_type": "code",
   "execution_count": null,
   "id": "e8cfca30",
   "metadata": {},
   "outputs": [],
   "source": [
    "print('Cross validation - MultinomialNB:', np.round(cross_val_score(MultinomialNB(), X, y, cv = 5).mean(), 6))"
   ]
  },
  {
   "cell_type": "markdown",
   "id": "a5aabcc2",
   "metadata": {},
   "source": [
    "GaussianNB and MultinomialNB gave very similar results. Cross-validation of very basic layering models yielded accuracy scores of around 0.77.\\\n",
    "We can see that both models detect healthy individuals more accurately than those who are pre-diabetic or diagnosed with diabetes."
   ]
  },
  {
   "cell_type": "markdown",
   "id": "4598ada3",
   "metadata": {},
   "source": [
    "### Logistic Regression"
   ]
  },
  {
   "cell_type": "code",
   "execution_count": null,
   "id": "cde46b4d",
   "metadata": {},
   "outputs": [],
   "source": [
    "lr_model = Pipeline([(\"scaler\", StandardScaler()), (\"model\", LogisticRegression())])\n",
    "\n",
    "lr_param_grid = {'model__C' : 10**np.arange(-3,4, dtype = float), \n",
    "                 'model__penalty' : ['l1','l2'],  \n",
    "                 'model__class_weight' : ['balanced', None]}"
   ]
  },
  {
   "cell_type": "code",
   "execution_count": null,
   "id": "61832a6d",
   "metadata": {},
   "outputs": [],
   "source": [
    "lr_baseline = LogisticRegression(random_state = 0)\n",
    "lr_baseline.fit(X_train, y_train)\n",
    "print('Best score:', np.round(accuracy_score(y_test, lr_baseline.predict(X_test)), 6))\n",
    "evaluate_model(lr_baseline)"
   ]
  },
  {
   "cell_type": "code",
   "execution_count": null,
   "id": "0c81d03b",
   "metadata": {},
   "outputs": [],
   "source": [
    "lr_model = optimize_model(lr_model, lr_param_grid)\n",
    "evaluate_model(lr_model)"
   ]
  },
  {
   "cell_type": "code",
   "execution_count": null,
   "id": "1e7ecfe6",
   "metadata": {},
   "outputs": [],
   "source": [
    "lr_model = Pipeline([(\"scaler\", StandardScaler()), (\"model\", LogisticRegression())])\n",
    "lr_param_grid = {'model__C' : 10**np.linspace(-3, 0, num=50)}\n",
    "lr_model = optimize_model(lr_model, lr_param_grid)\n",
    "evaluate_model(lr_model)"
   ]
  },
  {
   "cell_type": "markdown",
   "id": "a69e51a5",
   "metadata": {},
   "source": [
    "Optimization of parameter C did not improve the accuracy of the linear regression model."
   ]
  },
  {
   "cell_type": "code",
   "execution_count": null,
   "id": "77b34ae6",
   "metadata": {},
   "outputs": [],
   "source": [
    "y_pred = lr_model.predict(X_test)\n",
    "cm = confusion_matrix(y_test, y_pred)\n",
    "plt.figure(figsize=(2, 1))\n",
    "disp = ConfusionMatrixDisplay(confusion_matrix=cm)\n",
    "disp.plot(cmap=plt.cm.Reds)\n",
    "plt.show()\n"
   ]
  },
  {
   "cell_type": "markdown",
   "id": "0f483a1a",
   "metadata": {},
   "source": [
    "### SVM"
   ]
  },
  {
   "cell_type": "code",
   "execution_count": null,
   "id": "7c19e67f",
   "metadata": {},
   "outputs": [],
   "source": [
    "svm_model = Pipeline([(\"scaler\", StandardScaler()), (\"model\", SVC(kernel='rbf'))])\n",
    "\n",
    "svm_param_grid = {'model__C' : 10**np.arange(-3,4, dtype = float),\n",
    "                  'model__class_weight' : ['balanced', None]}"
   ]
  },
  {
   "cell_type": "code",
   "execution_count": null,
   "id": "7a984303",
   "metadata": {},
   "outputs": [],
   "source": [
    "svm_baseline = SVC(random_state = 0)\n",
    "svm_baseline.fit(X_train, y_train)\n",
    "print('Best score:', np.round(accuracy_score(y_test, svm_baseline.predict(X_test)), 6))\n",
    "evaluate_model(svm_baseline)"
   ]
  },
  {
   "cell_type": "code",
   "execution_count": null,
   "id": "355d8c05",
   "metadata": {},
   "outputs": [],
   "source": [
    "y_pred = svm_baseline.predict(X_test)\n",
    "cm = confusion_matrix(y_test, y_pred)\n",
    "plt.figure(figsize=(2, 1))\n",
    "disp = ConfusionMatrixDisplay(confusion_matrix=cm)\n",
    "disp.plot(cmap=plt.cm.Reds)\n",
    "plt.show()\n"
   ]
  },
  {
   "cell_type": "markdown",
   "id": "6e86f2fd",
   "metadata": {},
   "source": [
    "The dataset for the SVM classifier is too large."
   ]
  },
  {
   "cell_type": "markdown",
   "id": "9fc82ae0",
   "metadata": {},
   "source": [
    "### Decision Tree Classifier"
   ]
  },
  {
   "cell_type": "code",
   "execution_count": null,
   "id": "2ec97330",
   "metadata": {},
   "outputs": [],
   "source": [
    "tree_model = Pipeline([(\"scaler\", StandardScaler()), (\"model\", DecisionTreeClassifier())])\n",
    "\n",
    "tree_param_grid = {'model__criterion': ['gini', 'entropy'],\n",
    "                   'model__max_depth': [2, 5, 10, 20, 30],\n",
    "                   'model__min_samples_leaf': [5, 10, 20, 30]}"
   ]
  },
  {
   "cell_type": "code",
   "execution_count": null,
   "id": "c2d60a44",
   "metadata": {},
   "outputs": [],
   "source": [
    "tree_baseline = DecisionTreeClassifier(random_state = 0)\n",
    "tree_baseline.fit(X_train, y_train)\n",
    "print('Best score:', np.round(accuracy_score(y_test, tree_baseline.predict(X_test)), 6))\n",
    "evaluate_model(tree_baseline)"
   ]
  },
  {
   "cell_type": "code",
   "execution_count": null,
   "id": "f77b8941",
   "metadata": {},
   "outputs": [],
   "source": [
    "tree_model = optimize_model(tree_model, tree_param_grid)\n",
    "evaluate_model(tree_model)"
   ]
  },
  {
   "cell_type": "code",
   "execution_count": null,
   "id": "e6755ffd",
   "metadata": {},
   "outputs": [],
   "source": [
    "tree_model = Pipeline([(\"scaler\", StandardScaler()), (\"model\", DecisionTreeClassifier(criterion = 'entropy', \n",
    "                                                                                      max_depth = 10))])\n",
    "tree_param_grid = {'model__min_samples_leaf': [30, 45, 50, 75, 100, 150, 200, 300, 500, 650, 750, 900]}\n",
    "tree_model = optimize_model(tree_model, tree_param_grid)\n",
    "evaluate_model(tree_model)"
   ]
  },
  {
   "cell_type": "markdown",
   "id": "ed0c7f40",
   "metadata": {},
   "source": [
    "Narrowing down the area"
   ]
  },
  {
   "cell_type": "code",
   "execution_count": null,
   "id": "efd84cfe",
   "metadata": {},
   "outputs": [],
   "source": [
    "tree_model = Pipeline([(\"scaler\", StandardScaler()), (\"model\", DecisionTreeClassifier(criterion = 'entropy', \n",
    "                                                                                      max_depth = 10))])\n",
    "tree_param_grid = {'model__min_samples_leaf': np.arange(630,650,1)}\n",
    "tree_model = optimize_model(tree_model, tree_param_grid)\n",
    "evaluate_model(tree_model)"
   ]
  },
  {
   "cell_type": "code",
   "execution_count": null,
   "id": "e5a177db",
   "metadata": {},
   "outputs": [],
   "source": [
    "y_pred = tree_model.predict(X_test)\n",
    "cm = confusion_matrix(y_test, y_pred)\n",
    "plt.figure(figsize=(2, 1))\n",
    "disp = ConfusionMatrixDisplay(confusion_matrix=cm)\n",
    "disp.plot(cmap=plt.cm.Reds)\n",
    "plt.show()"
   ]
  },
  {
   "cell_type": "markdown",
   "id": "ebc179b8",
   "metadata": {},
   "source": [
    "### Random Forest Classifier"
   ]
  },
  {
   "cell_type": "code",
   "execution_count": null,
   "id": "d29bbe0f",
   "metadata": {},
   "outputs": [],
   "source": [
    "forest_model = Pipeline([(\"scaler\", StandardScaler()), (\"model\", RandomForestClassifier())])\n",
    "\n",
    "forest_param_grid = {'model__n_estimators': [200, 500, 1000],\n",
    "                     'model__max_depth' : [5, 15, 50],\n",
    "                     'model__min_samples_leaf': [5, 10, 20],\n",
    "                     'model__criterion': ['gini', 'entropy']}"
   ]
  },
  {
   "cell_type": "code",
   "execution_count": null,
   "id": "21f4426e",
   "metadata": {},
   "outputs": [],
   "source": [
    "forest_baseline = RandomForestClassifier(random_state = 0)\n",
    "forest_baseline.fit(X_train, y_train)\n",
    "print('Best score:', np.round(accuracy_score(y_test, forest_baseline.predict(X_test)), 6))\n",
    "evaluate_model(forest_baseline)"
   ]
  },
  {
   "cell_type": "code",
   "execution_count": null,
   "id": "18543dbf",
   "metadata": {},
   "outputs": [],
   "source": [
    "forest_model = optimize_model(forest_model, forest_param_grid)\n",
    "evaluate_model(forest_model)"
   ]
  },
  {
   "cell_type": "code",
   "execution_count": null,
   "id": "7df162eb",
   "metadata": {},
   "outputs": [],
   "source": [
    "forest_model = Pipeline([(\"scaler\", StandardScaler()), (\"model\", RandomForestClassifier(min_samples_leaf = 10,\n",
    "                                                                                        criterion = 'entropy'))])\n",
    "forest_param_grid = {'model__n_estimators': [400, 500, 700],\n",
    "                     'model__max_depth' : [35, 50, 100]}\n",
    "forest_model = optimize_model(forest_model, forest_param_grid)\n",
    "evaluate_model(forest_model)\n",
    "\n",
    "\n",
    "'''forest_model = Pipeline([(\"scaler\", StandardScaler()), (\"model\", RandomForestClassifier(min_samples_leaf = 10,\n",
    "                                                                                        criterion = 'entropy'))])\n",
    "forest_param_grid = {'model__n_estimators': np.arange(400, 500, 20),\n",
    "                     'model__max_depth' : np.arange(50, 100, 10)}\n",
    "forest_model = optimize_model(forest_model, forest_param_grid)\n",
    "evaluate_model(forest_model)\n",
    "'''"
   ]
  },
  {
   "cell_type": "code",
   "execution_count": null,
   "id": "549564ee",
   "metadata": {},
   "outputs": [],
   "source": [
    "y_pred = forest_model.predict(X_test)\n",
    "cm = confusion_matrix(y_test, y_pred)\n",
    "plt.figure(figsize=(2, 1))\n",
    "disp = ConfusionMatrixDisplay(confusion_matrix=cm)\n",
    "disp.plot(cmap=plt.cm.Reds)\n",
    "plt.show()"
   ]
  },
  {
   "cell_type": "markdown",
   "id": "11b2c2a9",
   "metadata": {},
   "source": [
    "We have finished the search. Our best random forest model includes criterion as entropy, max depth of __, a minimum number of samples to be in a leaf node of __ and number od estimators of ___.\n"
   ]
  },
  {
   "cell_type": "markdown",
   "id": "64ffb0ff",
   "metadata": {},
   "source": [
    "### XGBoost Classifier"
   ]
  },
  {
   "cell_type": "code",
   "execution_count": null,
   "id": "a2559e1c",
   "metadata": {},
   "outputs": [],
   "source": [
    "xgb_model = Pipeline([(\"scaler\", StandardScaler()), (\"model\", xgb.XGBClassifier(eval_metric='error'))])\n",
    "\n",
    "xgb_param_grid  = {'model__n_estimators': [200, 400, 800],\n",
    "                   'model__max_depth': [5, 10, 20],\n",
    "                   'model__learning_rate': [0.05, 0.1, 0.20],\n",
    "                   'model__min_child_weight': [1, 10, 100]}"
   ]
  },
  {
   "cell_type": "code",
   "execution_count": null,
   "id": "60e028f2",
   "metadata": {},
   "outputs": [],
   "source": [
    "xgb_baseline = xgb.XGBClassifier(eval_metric='error', random_state = 0)\n",
    "xgb_baseline.fit(X_train, y_train)\n",
    "print('Best score:', np.round(accuracy_score(y_test, xgb_baseline.predict(X_test)), 6))\n",
    "evaluate_model(xgb_baseline)"
   ]
  },
  {
   "cell_type": "code",
   "execution_count": null,
   "id": "5e3559e0",
   "metadata": {},
   "outputs": [],
   "source": [
    "xgb_model = optimize_model(xgb_model, xgb_param_grid)\n",
    "evaluate_model(xgb_model)"
   ]
  },
  {
   "cell_type": "code",
   "execution_count": null,
   "id": "b48a5ea6",
   "metadata": {},
   "outputs": [],
   "source": [
    "xgb_model = Pipeline([(\"scaler\", StandardScaler()), (\"model\", xgb.XGBClassifier(eval_metric='error'))])\n",
    "xgb_param_grid  = {'model__n_estimators': [800, 1000],\n",
    "                   'model__max_depth': [1, 3, 5],\n",
    "                   'model__learning_rate': [0.001, 0.01, 0.05],\n",
    "                   'model__min_child_weight': [100, 200]}\n",
    "xgb_model = optimize_model(xgb_model, xgb_param_grid)\n",
    "evaluate_model(xgb_model)"
   ]
  },
  {
   "cell_type": "code",
   "execution_count": null,
   "id": "f2a770b4",
   "metadata": {},
   "outputs": [],
   "source": [
    "xgb_model = Pipeline([(\"scaler\", StandardScaler()), (\"model\", xgb.XGBClassifier(eval_metric = 'error', \n",
    "                                                                                max_depth = 5, \n",
    "                                                                                learning_rate = 0.05, \n",
    "                                                                                min_child_weight = 100))])\n",
    "xgb_param_grid  = {'model__n_estimators': [750, 800, 850]}\n",
    "xgb_model = optimize_model(xgb_model, xgb_param_grid)\n",
    "evaluate_model(xgb_model)"
   ]
  },
  {
   "cell_type": "code",
   "execution_count": null,
   "id": "25696725",
   "metadata": {},
   "outputs": [],
   "source": [
    "y_pred = xgb_model.predict(X_test)\n",
    "cm = confusion_matrix(y_test, y_pred)\n",
    "plt.figure(figsize=(2, 1))\n",
    "disp = ConfusionMatrixDisplay(confusion_matrix=cm)\n",
    "disp.plot(cmap=plt.cm.Reds)\n",
    "plt.show()"
   ]
  },
  {
   "cell_type": "markdown",
   "id": "d6382c11",
   "metadata": {},
   "source": [
    "## Metrics"
   ]
  },
  {
   "cell_type": "code",
   "execution_count": null,
   "id": "856fc48c",
   "metadata": {},
   "outputs": [],
   "source": [
    "from sklearn import metrics\n",
    "model_name = []\n",
    "accuracy_score = []\n",
    "f1_score = []\n",
    "roc_auc_score = []\n",
    "recall_score = []\n",
    "precision_score = []\n",
    "    \n",
    "def metrics_models(name, model, X_test = X_test, y_test = y_test):\n",
    "    models = list()\n",
    "    models.append((name, model))\n",
    "    \n",
    "    for name, model in models:\n",
    "        model_name.append(name)\n",
    "        accuracy_score.append(metrics.accuracy_score(y_test, model.predict(X_test)))\n",
    "        f1_score.append(metrics.f1_score(y_test, model.predict(X_test)))\n",
    "        roc_auc_score.append(metrics.roc_auc_score(y_test, model.predict(X_test)))\n",
    "        recall_score.append(metrics.recall_score(y_test, model.predict(X_test)))\n",
    "        precision_score.append(metrics.precision_score(y_test, model.predict(X_test)))\n"
   ]
  },
  {
   "cell_type": "code",
   "execution_count": null,
   "id": "5ce86009",
   "metadata": {},
   "outputs": [],
   "source": [
    "metrics_models('Base GaussianNB', gaussianNB_model)\n",
    "metrics_models('Base MultinomialNB', multinomialNB_model)\n",
    "metrics_models('Base LinearRegression', lr_baseline)\n",
    "metrics_models('LinearRegression', lr_model)\n",
    "metrics_models('Base DecisionTreeClassifier', tree_baseline)\n",
    "metrics_models('DecisionTreeClassifier', tree_model)\n",
    "metrics_models('Base RandomForestClassifier', forest_baseline)\n",
    "metrics_models('RandomForestClassifier', forest_model)\n",
    "metrics_models('Base XGBoostClassifier', xgb_baseline)\n",
    "metrics_models('XGBoostClassifier', xgb_model)"
   ]
  },
  {
   "cell_type": "code",
   "execution_count": null,
   "id": "a8b94cdc",
   "metadata": {},
   "outputs": [],
   "source": [
    "metrics_df = pd.DataFrame({'Model': model_name,\n",
    "                           'Accuracy': accuracy_score,\n",
    "                           'F1-score': f1_score,\n",
    "                           'AUC': roc_auc_score,\n",
    "                           'Recall': recall_score,\n",
    "                           'Precision': precision_score})"
   ]
  },
  {
   "cell_type": "code",
   "execution_count": null,
   "id": "797ee29b",
   "metadata": {},
   "outputs": [],
   "source": [
    "metrics_df"
   ]
  }
 ],
 "metadata": {
  "kernelspec": {
   "display_name": "Python 3 (ipykernel)",
   "language": "python",
   "name": "python3"
  },
  "language_info": {
   "codemirror_mode": {
    "name": "ipython",
    "version": 3
   },
   "file_extension": ".py",
   "mimetype": "text/x-python",
   "name": "python",
   "nbconvert_exporter": "python",
   "pygments_lexer": "ipython3",
   "version": "3.12.2"
  },
  "toc": {
   "base_numbering": 1,
   "nav_menu": {
    "height": "255.99px",
    "width": "571.354px"
   },
   "number_sections": true,
   "sideBar": true,
   "skip_h1_title": true,
   "title_cell": "Table of Contents",
   "title_sidebar": "Contents",
   "toc_cell": true,
   "toc_position": {},
   "toc_section_display": true,
   "toc_window_display": false
  },
  "varInspector": {
   "cols": {
    "lenName": 16,
    "lenType": 16,
    "lenVar": 40
   },
   "kernels_config": {
    "python": {
     "delete_cmd_postfix": "",
     "delete_cmd_prefix": "del ",
     "library": "var_list.py",
     "varRefreshCmd": "print(var_dic_list())"
    },
    "r": {
     "delete_cmd_postfix": ") ",
     "delete_cmd_prefix": "rm(",
     "library": "var_list.r",
     "varRefreshCmd": "cat(var_dic_list()) "
    }
   },
   "types_to_exclude": [
    "module",
    "function",
    "builtin_function_or_method",
    "instance",
    "_Feature"
   ],
   "window_display": false
  }
 },
 "nbformat": 4,
 "nbformat_minor": 5
}
